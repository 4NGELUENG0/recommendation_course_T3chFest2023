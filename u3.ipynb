{
 "cells": [
  {
   "cell_type": "markdown",
   "id": "976c76fd",
   "metadata": {},
   "source": [
    "<html style=\"background-color: white\">\n",
    "    <head style=\"background-color: white\">\n",
    "        <div style=\"position: relative; width: 1084px; margin: 50px auto; padding: 15px auto;\">\n",
    "            <figure style=\"max-width: 500px; float:left; padding: 10px; margin: 10px;\">\n",
    "                <a href=\"https://decide4ai.com/\" target=\"_blank\"><img style=\"padding: px; margin: 0;\" src=\"./recursos/imagenes/FULLCOLOR.png\" alt=\"logo decide\"></a>\n",
    "            </figure>\n",
    "            <figure style=\"max-width: 500px; float:left; padding: 10px; margin: 32px 10px 10px 10px;\">\n",
    "                <a href=\"https://t3chfest.es/2023/\" target=\"_blank\"><img style=\"padding: 0; margin: 0;\" src=\"./recursos/imagenes/t3f_logo.png\" alt=\"logo t3ch festival\"></a>\n",
    "            </figure>\n",
    "        </div>\n",
    "        <div style=\"position: relative; border-top:3px solid #002060; border-bottom:3px solid #002060; margin-top: 300px; height: 96px; margin-right: auto; margin-left: auto;\">\n",
    "            <a href=\"./u2.ipynb\" target=\"_blank\"><img style=\"float: left; height: 64px; width: 76px;  margin:1% 1% 1% 7%;\" src=\"./recursos/imagenes/ICON-FULLCOLOR-ROT.png\" alt=\"icono decide4ai rotado\"></a>\n",
    "            <h1 style=\"color: #002060; text-align: center; margin: 2% 0; padding: 0; width: 70%; float: left;\">\n",
    "                Unidad 3: Motores de recomendación de filtrado colaborativo<br><a href=\"./indice.ipynb\" style=\"font-size: 10px; color: #bf27b8\">Volver al índice</a>\n",
    "            </h1>\n",
    "            <a href=\"./u3c1.ipynb\" target=\"_blank\"><img style=\"float: left; height: 64px; width: 76px; margin:1% auto 1% 1%;\" src=\"./recursos/imagenes/ICON-FULLCOLOR.png\" alt=\"icono decide4ai\"></a>\n",
    "        </div>\n",
    "        <ol style=\"text-align: left; list-style-type: none; margin-top: 75px;\">\n",
    "            <li style=\"margin: 20px 0;\"><h5><a style=\"color: #f47b4c\" href=\"./u1c1.ipynb\" target=\"_blank\">Motores de recomendación de filtrado colaborativo basados en memoria.</a></h5></li>\n",
    "            <li style=\"margin: 20px 0;\"><h5><a style=\"color: #f47b4c\" href=\"./u1c2.ipynb\" target=\"_blank\">Motores de recomendación de filtrado colaborativo basados en modelos.</a></h5></li>\n",
    "            <li style=\"margin: 20px 0;\"><h5><a style=\"color: #f47b4c\" href=\"./u1c3.ipynb\" target=\"_blank\">Motores de recomendación de filtrado colaborativo basados en redes neuronales.</a></h5></li>\n",
    "        </ol>\n",
    "    </head>\n",
    "</html>"
   ]
  },
  {
   "cell_type": "markdown",
   "id": "4a7ab381",
   "metadata": {},
   "source": [
    "<h1 style=\"color: #002060; margin-top: 100px;\">Motores de recomendación de filtrado colaborativo</h1>\n",
    "<p style=\"font-size: 18px; color: #002060;\">\n",
    "    El <strong>filtrado colaborativo</strong> utiliza información pasada de otros usuarios y de otros ítems para ofrecer recomendaciones personalizadas. Esta familia de métodos se basa en la suposición de que a las personas similares les gustan cosas similares <em>- personas que estuvieron de acuerdo en la evaluación de ciertos artículos en el pasado es probable que estén de acuerdo en el futuro -</em>; y en la suposición de que si a un usuario le gusta cierto ítem, es probable que le guste otro similar.\n",
    "    <em>Por ejemplo, a la hora de dedicir qué película ver, es más probable que preguntemos a un amigo con un gusto similar al nuestro.</em>\n",
    "</p>\n",
    "<p style=\"font-size: 18px; color: #002060;\">\n",
    "Podemos clasificar los algoritmos de CF en dos grupos:\n",
    "</p>\n",
    "<ul style=\"text-align: left; font-size: 18px; color: #002060;\">\n",
    "    <li style=\"margin: 20px 0;\"><strong>Basados en memoria</strong> o <em>Memory-based</em>.</li>\n",
    "    <ul style=\"text-align: left; font-size: 18px; color: #002060;\">\n",
    "        <li style=\"margin: 20px 0;\"><strong>Centrado en el usuario</strong> o <em>user-based CF</em>: Miden la similitud entre el usuario objetivo y otros usuarios.</li>\n",
    "        <li style=\"margin: 20px 0;\"><strong>Centrado en los artículos</strong> o <em>item-based CF</em>: Miden la similitud entre los ítems con los que el usuario iteractúan y otros ítems</li>\n",
    "    </ul>\n",
    "    <li style=\"margin: 20px 0;\"><strong>Basados en modelos</strong> o <em>Model-based</em>.</li>\n",
    "</ul>"
   ]
  },
  {
   "cell_type": "markdown",
   "id": "8da2fd4e",
   "metadata": {},
   "source": [
    "<p style=\"font-size: 18px; color: #002060;\">\n",
    "Algunas diferencias con respecto a los motores basados en contenido:\n",
    "</p>\n",
    "<ul style=\"text-align: left; font-size: 18px; color: #002060;\">\n",
    "    <li style=\"margin: 20px 0;\"><strong>Fuentes de información</strong>: En un enfoque de filtrado colaborativo la información que se utiliza se basa en las interacciones de los usuarios con los ítems (compras, clics, ratings, etc.). En un enfoque basado en contenido, la información proviene de características explícitas de los ítems (precio, color, actores, etc.).</li>\n",
    "    <li style=\"margin: 20px 0;\"><strong>Cómo recomiendan</strong>: En un enfoque de filtrado colaborativo las recomendaciones se basan en patrones similares en las interacciones de los usuarios con los ítems. Por otro lado, en un enfoque basado en contenido, las recomendaciones se basan en la similitud de los atributos de los ítems.</li>\n",
    "    <li style=\"margin: 20px 0;\"><strong>Personalización</strong>: Los algoritmos de filtrado colaborativo proporcionan más personalización que los basados en contenido, ya que también incluyen información de los usuarios.</li>\n",
    "</ul>"
   ]
  }
 ],
 "metadata": {
  "kernelspec": {
   "display_name": "Python 3 (ipykernel)",
   "language": "python",
   "name": "python3"
  },
  "language_info": {
   "codemirror_mode": {
    "name": "ipython",
    "version": 3
   },
   "file_extension": ".py",
   "mimetype": "text/x-python",
   "name": "python",
   "nbconvert_exporter": "python",
   "pygments_lexer": "ipython3",
   "version": "3.10.9"
  },
  "vscode": {
   "interpreter": {
    "hash": "a9634b3da602d5469ebed6cb686a14de7e88f55af7e918366dbf4f55476a71a0"
   }
  }
 },
 "nbformat": 4,
 "nbformat_minor": 5
}
