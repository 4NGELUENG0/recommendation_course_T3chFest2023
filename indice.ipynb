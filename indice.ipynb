{
 "cells": [
  {
   "cell_type": "markdown",
   "id": "4c2632b9-0c3e-4fcb-9aa5-7720f1c50d44",
   "metadata": {
    "tags": []
   },
   "source": [
    "<html style=\"background-color: white\">\n",
    "    <head style=\"background-color: white\">\n",
    "        <div style=\"position: relative; width: 1084px; margin: 50px auto; padding: 15px auto;\">\n",
    "            <figure style=\"max-width: 500px; float:left; padding: 10px; margin: 10px;\">\n",
    "                <a href=\"https://decide4ai.com/\" target=\"_blank\"><img style=\"padding: px; margin: 0;\" src=\"./recursos/imagenes/FULLCOLOR.png\" alt=\"logo decide\"></a>\n",
    "            </figure>\n",
    "            <figure style=\"max-width: 500px; float:left; padding: 10px; margin: 32px 10px 10px 10px;\">\n",
    "                <a href=\"https://t3chfest.es/2023/\" target=\"_blank\"><img style=\"padding: 0; margin: 0;\" src=\"./recursos/imagenes/t3f_logo.png\" alt=\"logo t3f t3ch festival\"></a>\n",
    "            </figure>\n",
    "        </div>\n",
    "        <h1 style=\"font-size: 50px; color: #002060; margin-top: 300px;\">\n",
    "            <strong>¿Quién te conoce mejor? ¿La IA o tu amigo/a?</strong>\n",
    "        </h1>\n",
    "        <p style=\"font-size: 15px; color: #f47b4c\">\n",
    "            <em>Montando un motor de recomendación.</em>\n",
    "        </p>\n",
    "    </head>\n",
    "    <body>\n",
    "        <h2 style=\"color: #002060; text-align: center; border-top:3px solid #002060; border-bottom:3px solid #002060; padding-top: 10px; padding-bottom: 20px; margin-top: 100px;\">\n",
    "            ¿Quiénes somos?\n",
    "        </h2>\n",
    "        <div style=\"position:relative; width: 1040px; margin: 50px auto; padding: 15px auto;\">\n",
    "            <figure style=\"width: 258px; height: 250px; float:left; padding: 0 40px; margin: 0; text-align: center; color: #002060;\">\n",
    "                <img style=\"border-radius: 50%; border: 4px solid #fc5100; width: 250px; height: 250px; padding: 0; margin: 0;\" src=\"./recursos/imagenes/esteban_foto.jpg\" alt=\"Esteban Sanchez\">\n",
    "                <figcaption style=\"font-size: 15px; font-weight: bold\">Esteban Sánchez<br><em style=\"font-size: 12px; font-weight: normal\">Senior Data Scientist</em></figcaption>\n",
    "                <a href=\"https://www.linkedin.com/in/estebanmsg/\" target=\"_blank\"><img style=\"with: 24px; height: 24px; padding: 0; margin: 0;\" src=\"./recursos/imagenes/LI-In-Bug.png\" alt=\"LinkedIn Esteban Sanchez\"></a>\n",
    "            </figure>\n",
    "            <figure style=\"width: 258px; height: 250px; float:left; padding: 0 40px; margin: 0; text-align: center; color: #002060;\">\n",
    "                <img style=\"border-radius: 50%; border: 4px solid #fc5100; width: 250px; height: 250px; padding: 0; margin: 0;\" src=\"./recursos/imagenes/paula_foto.jpg\" alt=\"Paula Errasti\">\n",
    "                <figcaption style=\"font-size: 15px; font-weight: bold\">Paula Errasti<br><em style=\"font-size: 12px; font-weight: normal\">Senior Data Scientist</em></figcaption>\n",
    "                <a href=\"https://www.linkedin.com/in/paula-errasti-gonz%C3%A1lez-24454b171/\" target=\"_blank\"><img style=\"with: 24px; height: 24px; padding: 0; margin: 0;\" src=\"./recursos/imagenes/LI-In-Bug.png\" alt=\"LinkedIn Paula Errasti\"></a>\n",
    "            </figure>\n",
    "            <figure style=\"width: 258px; height: 250px; float:left; padding: 0 40px; margin: 0; text-align: center; color: #002060;\">\n",
    "                <img style=\"border-radius: 50%; border: 4px solid #fc5100; width: 250px; height: 250px; padding: 0; margin: 0;\" src=\"./recursos/imagenes/angel_foto.jpg\" alt=\"Angel Luengo\">\n",
    "                <figcaption style=\"font-size: 15px; font-weight: bold\">Ángel Luengo<br><em style=\"font-size: 12px; font-weight: normal\">Responsable del Área de Data Science</em></figcaption>\n",
    "                <a href=\"https://www.linkedin.com/in/%C3%A1ngel-luengo-egido-7347a6130/\" target=\"_blank\"><img style=\"with: 24px; height: 24px; padding: 0; margin: 0;\" src=\"./recursos/imagenes/LI-In-Bug.png\" alt=\"LinkedIn Angel Luengo\"></a>\n",
    "            </figure>\n",
    "        </div>\n",
    "        <h2 style=\"color: #002060; text-align: center; border-top:3px solid #002060; border-bottom:3px solid #002060; padding-top: 15px; padding-bottom: 20px; margin-top: 450px;\">\n",
    "            Contenidos del taller\n",
    "        </h2>\n",
    "        <ul style=\"text-align: left; list-style-type: none;\">\n",
    "            <li><h3><a style=\"color: #002060\" href=\"./u1.ipynb\" target=\"_blank\">Unidad 1: Introducción a motores de recomendación</a></h3></li>\n",
    "                <ol style=\"text-align: left; list-style-type: none;\">\n",
    "                    <li style=\"margin: 20px 0;\"><h5><a style=\"color: #f47b4c\" href=\"./u1c1.ipynb\" target=\"_blank\">¿Qué es un motor de recomendación?</a></h5></li>\n",
    "                    <li style=\"margin: 20px 0;\"><h5><a style=\"color: #f47b4c\" href=\"./u1c2.ipynb\" target=\"_blank\">Entendiendo los datos.</a></h5></li>\n",
    "                    <li style=\"margin: 20px 0;\"><h5><a style=\"color: #f47b4c\" href=\"./u1c3.ipynb\" target=\"_blank\">¿Qué tipos de motores de recomendación existen?</a></h5></li>\n",
    "                    <li style=\"margin: 20px 0;\"><h5><a style=\"color: #f47b4c\" href=\"./u1c4.ipynb\" target=\"_blank\">¿Cómo defino el objetivo de un motor de recomendación y con qué problemas me puedo encontrar?</a></h5></li>\n",
    "                    <li style=\"margin: 20px 0;\"><h5><a style=\"color: #f47b4c\" href=\"./u1c5.ipynb\" target=\"_blank\">¿Qué métricas uso para un motor de recomendación?</a></h5></li>\n",
    "                    <li style=\"margin: 20px 0;\"><h5><a style=\"color: #f47b4c\" href=\"./u1c6.ipynb\" target=\"_blank\">¿Cómo pongo en producción un motor de recomendación?</a></h5></li>\n",
    "                </ol>\n",
    "            <li><h3><a style=\"color: #002060\" href=\"./u2.ipynb\" target=\"_blank\">Unidad 2: Motores de recomendación basados en contenido</a></h3></li>\n",
    "            <li><h3><a style=\"color: #002060\" href=\"./u3.ipynb\" target=\"_blank\">Unidad 3: Motores de recomendación de filtrado colaborativo</a></h3></li>\n",
    "                <ol style=\"text-align: left; list-style-type: none;\">\n",
    "                    <li style=\"margin: 20px 0;\"><h5><a style=\"color: #f47b4c\" href=\"./u3c1.ipynb\" target=\"_blank\">Motores de recomendación de filtrado colaborativo basados en memoria.</a></h5></li>\n",
    "                    <li style=\"margin: 20px 0;\"><h5><a style=\"color: #f47b4c\" href=\"./u3c2.ipynb\" target=\"_blank\">Motores de recomendación de filtrado colaborativo basados en modelos.</a></h5></li>\n",
    "                    <li style=\"margin: 20px 0;\"><h5><a style=\"color: #f47b4c\" href=\"./u3c3.ipynb\" target=\"_blank\">Motores de recomendación de filtrado colaborativo basados en redes neuronales.</a></h5></li>\n",
    "                </ol>\n",
    "            <li><h3><a style=\"color: #002060\" href=\"./u4.ipynb\" target=\"_blank\">Unidad 4: Introducción a sistemas de recomendación basados en Reinforcement Learning</a></h3></li>\n",
    "        </ul>\n",
    "        <div style=\"position:relative; width: 458px; margin: 50px auto; padding: 15px auto;\">\n",
    "            <figure style=\"width: 458px; height: 450px; float:left; padding: 0 40px; margin: 0; text-align: center; color: #002060;\">\n",
    "                <img style=\"width: 450px; height: 450px; padding: 0; margin: 0;\" src=\"./recursos/imagenes/gif_termonuclear.gif\" alt=\"vengadores experto fisica termonuclear\">\n",
    "            </figure>\n",
    "        </div>\n",
    "    </body>\n",
    "</html>"
   ]
  },
  {
   "cell_type": "code",
   "execution_count": null,
   "id": "36741390-f27c-478f-826c-9f050d87b09b",
   "metadata": {},
   "outputs": [],
   "source": []
  },
  {
   "cell_type": "code",
   "execution_count": null,
   "id": "4b28049a-e460-43b2-96fa-48e600429ed4",
   "metadata": {},
   "outputs": [],
   "source": []
  }
 ],
 "metadata": {
  "kernelspec": {
   "display_name": "Python 3 (ipykernel)",
   "language": "python",
   "name": "python3"
  },
  "language_info": {
   "codemirror_mode": {
    "name": "ipython",
    "version": 3
   },
   "file_extension": ".py",
   "mimetype": "text/x-python",
   "name": "python",
   "nbconvert_exporter": "python",
   "pygments_lexer": "ipython3",
   "version": "3.10.9"
  },
  "vscode": {
   "interpreter": {
    "hash": "a9634b3da602d5469ebed6cb686a14de7e88f55af7e918366dbf4f55476a71a0"
   }
  }
 },
 "nbformat": 4,
 "nbformat_minor": 5
}
