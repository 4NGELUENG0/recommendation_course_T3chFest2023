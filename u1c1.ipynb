{
 "cells": [
  {
   "cell_type": "markdown",
   "id": "9919e6b6-e05f-441b-917c-80794896be51",
   "metadata": {},
   "source": [
    "<html style=\"background-color: white\">    \n",
    "    <head style=\"background-color: white\">\n",
    "        <div style=\"position: relative; width: 1084px; margin: 50px auto; padding: 15px auto;\">\n",
    "            <figure style=\"max-width: 500px; float:left; padding: 10px; margin: 10px;\">\n",
    "                <a href=\"https://decide4ai.com/\" target=\"_blank\"><img style=\"padding: px; margin: 0;\" src=\"./recursos/imagenes/FULLCOLOR.png\" alt=\"logo decide\"></a>\n",
    "            </figure>\n",
    "            <figure style=\"max-width: 500px; float:left; padding: 10px; margin: 32px 10px 10px 10px;\">\n",
    "                <a href=\"https://t3chfest.es/2023/\" target=\"_blank\"><img style=\"padding: 0; margin: 0;\" src=\"./recursos/imagenes/t3f_logo.png\" alt=\"logo t3ch festival\"></a>\n",
    "            </figure>\n",
    "        </div>\n",
    "        <div style=\"position: relative; border-top:3px solid #002060; border-bottom:3px solid #002060; margin-top: 300px; height: 96px; margin-right: auto; margin-left: auto;\">\n",
    "            <a href=\"./u1.ipynb\" target=\"_blank\"><img style=\"float: left; height: 64px; width: 76px;  margin:1% 1% 1% 7%;\" src=\"./recursos/imagenes/ICON-FULLCOLOR-ROT.png\" alt=\"icono decide4ai rotado\"></a>\n",
    "            <h1 style=\"color: #002060; text-align: center; margin: 2% 0; padding: 0; width: 70%; float: left;\">\n",
    "                <a href=\"./u1.ipynb\" style=\"color: #002060\">Unidad 1: Introducción a motores de recomendación</a><br><a href=\"./indice.ipynb\" style=\"font-size: 10px; color: #bf27b8\">Volver al índice</a>\n",
    "            </h1>\n",
    "            <a href=\"./u1c2.ipynb\" target=\"_blank\"><img style=\"float: left; height: 64px; width: 76px; margin:1% auto 1% 1%;\" src=\"./recursos/imagenes/ICON-FULLCOLOR.png\" alt=\"icono decide4ai\"></a>\n",
    "        </div>\n",
    "        <ol style=\"text-align: left; list-style-type: none; margin-top: 75px;\">\n",
    "            <li style=\"margin: 20px 0;\"><h5><a style=\"color: #fc5100\" href=\"./u1c1.ipynb\" target=\"_blank\"><strong>¿Qué es un motor de recomendación?</strong></a></h5></li>\n",
    "            <li style=\"margin: 20px 0;\"><h5><a style=\"color: #f47b4c\" href=\"./u1c2.ipynb\" target=\"_blank\">Entendiendo los datos.</a></h5></li>\n",
    "            <li style=\"margin: 20px 0;\"><h5><a style=\"color: #f47b4c\" href=\"./u1c3.ipynb\" target=\"_blank\">¿Qué tipos de motores de recomendación existen?</a></h5></li>\n",
    "            <li style=\"margin: 20px 0;\"><h5><a style=\"color: #f47b4c\" href=\"./u1c4.ipynb\" target=\"_blank\">¿Cómo defino el objetivo de un motor de recomendación y con qué problemas me puedo encontrar?</a></h5></li>\n",
    "            <li style=\"margin: 20px 0;\"><h5><a style=\"color: #f47b4c\" href=\"./u1c5.ipynb\" target=\"_blank\">¿Qué métricas uso para un motor de recomendación?</a></h5></li>\n",
    "            <li style=\"margin: 20px 0;\"><h5><a style=\"color: #f47b4c\" href=\"./u1c6.ipynb\" target=\"_blank\">¿Cómo pongo en producción un motor de recomendación?</a></h5></li>\n",
    "        </ol>\n",
    "    </head>\n",
    "    <body>\n",
    "        <h1 style=\"color: #fc5100; margin-top: 100px;\">¿Qué es un motor de recomendación?</h1>\n",
    "        <p style=\"font-size: 18px; color: #002060;\">\n",
    "            Un sistema de recomendación se puede definir de muchas formas, para muestra, un botón:\n",
    "        </p>\n",
    "        <ul style=\"text-align: left; font-size: 18px; color: #002060;\">\n",
    "            <li style=\"margin: 20px 0;\">La <a style=\"color: #bf27b8\" href=\"https://es.wikipedia.org/wiki/Sistema_de_recomendaci%C3%B3n\" target=\"_blank\">wikipedia</a> define un sistema de recomendación de la siguiente manera: \"Los sistemas de recomendación forman parte de un sistema de filtrado de información, los cuales presentan distintos tipos de temas o <u style=\"background-color: #c5ece2\">ítems</u> de información (películas, música, libros, noticias, imágenes, páginas web, regalos, etc.) que son del interés de un <u style=\"background-color: #c5ece2\">usuario</u> en particular. Generalmente, un sistema recomendador <u style=\"background-color: #c5ece2\">compara el perfil</u> del usuario con algunas características de referencia de los temas, y busca predecir el baremo o ponderación que el usuario le daría a un ítem que aún el sistema no ha considerado. Estas características pueden basarse en la relación o acercamiento del usuario con el tema o en el ambiente social del mismo usuario.\"</li>\n",
    "            <li style=\"margin: 20px 0;\">El libro <em>Introduction to Recommender Systems Handbook</em> establece que: \"Los sistemas de recomendación (RSs) son herramientas de software y técnicas que ofrecen sugerencias de <u style=\"background-color: #c5ece2\">artículos</u> útiles para un <u style=\"background-color: #c5ece2\">usuario</u>. ... En su forma más simple, las recomendaciones personalizadas se ofrecen como listas ordenadas de artículos, productos o servicios en función de las <u style=\"background-color: #c5ece2\">preferencias y limitaciones del usuario</u>.\"</li>\n",
    "        </ul>\n",
    "        <p style=\"font-size: 18px; border: 4px solid #1cb890; text-align: center; padding: 8px; color: #002060; width: 50%; margin: 5% 25%;\">\n",
    "            La base de todas estas definiciones es que la función esencial de un sistema de recomendación es <strong>predecir matemáticamente las preferencias personales</strong>. — <em>Michael Schrage en Recommendation Engines para The MIT Press Essential Knowledge Series</em>.\n",
    "        </p>\n",
    "        <p style=\"font-size: 18px; color: #002060;\">\n",
    "            El uso que se le de a un motor de recomendación puede tener objetivos diferentes para contextos diferentes. Un sistema de recomendación <strong>no es una máquina en la que dados unos <em>inputs</em> devuelve unos <em>outputs</em> y listo</strong>, es necesario conocer el contexto en el que se recomienda y el objetivo que se busca.<br>\n",
    "            Por ejemplo, si un usuario <u style=\"background-color: #c5ece2\">está comprando</u> 2 camisetas en una página web, parece lógico pensar que lo que le gustan son las camisetas y se le puede recomendar otra. Sin embargo, y pese a que pueda no ser el producto más afín, tiene sentido que se le recomiende antes un pantalón a juego o una cazadora.<br>\n",
    "            Ahora bien, si este mismo usuario vuelve a comprar 3 meses después, y <u style=\"background-color: #c5ece2\">está mirando</u> camisetas, tiene sentido que se le recomienden aquellas que puedan gustarle más.\n",
    "        </p>\n",
    "        <p style=\"font-size: 18px; border: 4px solid #1cb890; text-align: center; padding: 8px; color: #002060; width: 50%; margin: 5% 25%;\">\n",
    "            En primer y última instancia, los recomendadores tienen que ver con <strong>las elecciones</strong>. — <em>Michael Schrage en Recommendation Engines para The MIT Press Essential Knowledge Series</em>.\n",
    "        </p>\n",
    "        <p style=\"font-size: 18px; color: #002060;\">\n",
    "            Las palabras que se encuentran subrayadas tienen un significado dentro de los sistemas de recomendación, se ha hablado de <strong>usuarios</strong>, de <strong>productos</strong>, de <strong>relaciones</strong> y de <strong>comportamientos</strong>. Y todo esto, cómo no, tiene que ver con datos:\n",
    "        </p>\n",
    "        <ul style=\"text-align: left; font-size: 18px; color: #002060;\">\n",
    "            <li style=\"margin: 20px 0;\">Dentro de los sistemas de recomendación un tipo de dato que <strong>siempre debe existir</strong> son los <strong>usuarios</strong> y los <strong>productos</strong> o, como se conoce en inglés, <em>user-item</em>. Esto es básicamente que necesitamos saber cómo los usuarios se interaccionan con los productos. Aunque no es necesario, normalmente cuanto más dato mejor, también es conveniente que se tenga una descripción sobre los usuarios (como edad, sexo, código postal, etc) y sobre los productos (géneros de libros, actores que aparecen en películas, duración, colores si son prendas, etc). Esto es lo que se conoce como <strong>variables contextuales</strong>.</li>\n",
    "            <li style=\"margin: 20px 0;\">En el punto anterior se ha expuesto que es necesario saber cómo los usuarios interaccionan con los productos, esto es el <strong>comportamiento</strong>. Hay diferentes formas de definir un comportamiento. Una puntuación de un restaurante, un <em>like</em> en una foto, veces que has reproducido un vídeo, tiempo en una página web, etc. Sin embargo, todas se pueden clasificar en dos grupos: en comportamiento de <em>feedback</em> explícito, como una puntuación de un libro sobre 5 estrellas; o como comportamiento de <em>feedback</em> implícito, como el tiempo que echas viendo vídeos de animalitos siendo adorables en TikTok. Estos últimos son los que han demostrado que mejoran estos sistemas.</li>\n",
    "        </ul>\n",
    "        <div style=\"position:relative; width: 458px; margin: 50px auto; padding: 15px auto;\">\n",
    "            <figure style=\"width: 458px; height: 450px; padding: 0 40px; margin: 0; text-align: center; color: #002060;\">\n",
    "                <img style=\"width: 450px; height: 450px; padding: 0; margin: 0;\" src=\"./recursos/imagenes/dog-cat.gif\">\n",
    "            </figure>\n",
    "        </div>\n",
    "        <ul style=\"text-align: left; font-size: 18px; color: #002060;\">\n",
    "            <li style=\"margin: 20px 0;\">Finalmente se tienen las relaciones o <strong>similaridad</strong>. Esto es una relación matemática que se usa para relacionar usuarios y productos. Pueden ser la correlación, la popularidad o una distancia entre las entidades (usuarios o productos). Esta relación es la que nos va a ayudar a ordenar las recomendaciones.</li>\n",
    "        </ul>\n",
    "    </body>\n",
    "</html>"
   ]
  },
  {
   "cell_type": "code",
   "execution_count": null,
   "id": "a14677e2-9fff-4f48-af26-61862656fc5f",
   "metadata": {},
   "outputs": [],
   "source": []
  }
 ],
 "metadata": {
  "kernelspec": {
   "display_name": "Python 3 (ipykernel)",
   "language": "python",
   "name": "python3"
  },
  "language_info": {
   "codemirror_mode": {
    "name": "ipython",
    "version": 3
   },
   "file_extension": ".py",
   "mimetype": "text/x-python",
   "name": "python",
   "nbconvert_exporter": "python",
   "pygments_lexer": "ipython3",
   "version": "3.10.9"
  },
  "vscode": {
   "interpreter": {
    "hash": "a9634b3da602d5469ebed6cb686a14de7e88f55af7e918366dbf4f55476a71a0"
   }
  }
 },
 "nbformat": 4,
 "nbformat_minor": 5
}
