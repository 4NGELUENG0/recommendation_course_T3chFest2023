{
 "cells": [
  {
   "cell_type": "markdown",
   "id": "18a3caab-5456-4678-bf03-95fd1648ad64",
   "metadata": {},
   "source": [
    "<html style=\"background-color: white\">\n",
    "    <head style=\"background-color: white\">\n",
    "        <div style=\"position: relative; width: 1084px; margin: 50px auto; padding: 15px auto;\">\n",
    "            <figure style=\"max-width: 500px; float:left; padding: 10px; margin: 10px;\">\n",
    "                <a href=\"https://decide4ai.com/\" target=\"_blank\"><img style=\"padding: px; margin: 0;\" src=\"./recursos/imagenes/FULLCOLOR.png\" alt=\"logo decide\"></a>\n",
    "            </figure>\n",
    "            <figure style=\"max-width: 500px; float:left; padding: 10px; margin: 32px 10px 10px 10px;\">\n",
    "                <a href=\"https://t3chfest.es/2023/\" target=\"_blank\"><img style=\"padding: 0; margin: 0;\" src=\"./recursos/imagenes/t3f_logo.png\" alt=\"logo t3ch festival\"></a>\n",
    "            </figure>\n",
    "        </div>\n",
    "        <div style=\"position: relative; border-top:3px solid #002060; border-bottom:3px solid #002060; margin-top: 300px; height: 96px; margin-right: auto; margin-left: auto;\">\n",
    "            <a href=\"./u1c5.ipynb\" target=\"_blank\"><img style=\"float: left; height: 64px; width: 76px;  margin:1% 1% 1% 7%;\" src=\"./recursos/imagenes/ICON-FULLCOLOR-ROT.png\" alt=\"icono decide4ai rotado\"></a>\n",
    "            <h1 style=\"color: #002060; text-align: center; margin: 2% 0; padding: 0; width: 70%; float: left;\">\n",
    "                <a href=\"./u1.ipynb\" style=\"color: #002060\">Unidad 1: Introducción a motores de recomendación</a><br><a href=\"./indice.ipynb\" style=\"font-size: 10px; color: #bf27b8\">Volver al índice</a>\n",
    "            </h1>\n",
    "            <a href=\"./u2.ipynb\" target=\"_blank\"><img style=\"float: left; height: 64px; width: 76px; margin:1% auto 1% 1%;\" src=\"./recursos/imagenes/ICON-FULLCOLOR.png\" alt=\"icono decide4ai\"></a>\n",
    "        </div>\n",
    "        <ol style=\"text-align: left; list-style-type: none; margin-top: 75px;\">\n",
    "            <li style=\"margin: 20px 0;\"><h5><a style=\"color: #f47b4c\" href=\"./u1c1.ipynb\" target=\"_blank\">¿Qué es un motor de recomendación?</a></h5></li>\n",
    "            <li style=\"margin: 20px 0;\"><h5><a style=\"color: #f47b4c\" href=\"./u1c2.ipynb\" target=\"_blank\">Entendiendo los datos.</a></h5></li>\n",
    "            <li style=\"margin: 20px 0;\"><h5><a style=\"color: #f47b4c\" href=\"./u1c3.ipynb\" target=\"_blank\">¿Qué tipos de motores de recomendación existen?</a></h5></li>\n",
    "            <li style=\"margin: 20px 0;\"><h5><a style=\"color: #f47b4c\" href=\"./u1c4.ipynb\" target=\"_blank\">¿Cómo defino el objetivo de un motor de recomendación y con qué problemas me puedo encontrar?</a></h5></li>\n",
    "            <li style=\"margin: 20px 0;\"><h5><a style=\"color: #f47b4c\" href=\"./u1c5.ipynb\" target=\"_blank\">¿Qué métricas uso para un motor de recomendación?</a></h5></li>\n",
    "            <li style=\"margin: 20px 0;\"><h5><a style=\"color: #fc5100\" href=\"./u1c6.ipynb\" target=\"_blank\"><strong>¿Cómo pongo en producción un motor de recomendación?</strong></a></h5></li>\n",
    "        </ol>\n",
    "    </head>\n",
    "    <body>\n",
    "        <h1 style=\"color: #fc5100; margin-top: 100px;\">¿Cómo pongo en producción un motor de recomendación?</h1>\n",
    "        <p style=\"font-size: 18px; color: #002060;\">\n",
    "            Si pensamos en un sistema de clasificación binaria, una vez que se tiene entrenado el modelo, se pone en producción y se monitoriza. Un sistema de recomendación es igual, con algunos detalles que lo hacen especial. Empezando desde el final:\n",
    "        </p>\n",
    "        <ul style=\"text-align: left; font-size: 18px; color: #002060;\">\n",
    "            <li style=\"margin: 20px 0;\"><strong>¿Qué se va a querer monitorizar?</strong>. Es decir, impacto económico de las recomendaciones, CTR, alguna de las métricas que se haya visto, productos que más se estén recomendando, qué productos se recomiendan por qué zonas, personas que consumen la recomendación del total de personas a las que se le envía, tiempo que pasa desde que se le muestra una recomendación hasta que compra el producto. Esto es importante para diseñar la salida, o output, que se va buscar de nuestro modelo. En relación a esto, otra pregunta importante es <strong>¿Cómo se va a querer monitorizar?</strong> a través de dashboards o de un producto web entre otras opciones. Esto es importante para la elección de la infraestructura que usar de bases de datos para la lectura de las recomendaciones, o si se hace a través de una API.\n",
    "            </li>\n",
    "            <li style=\"margin: 20px 0;\"><strong>Tener todos los datos para recomendar</strong>. Esto puede parecer trivial, pero es importante que si tu vas a usar un motor de recomendación con cierta información contextual, a la hora de recomendar vas a necesitar disponer de esa información contextual. Si tu alimentas a tu modelo con la proporción de ventas de un producto en el mes actual. El día 6 de mes no vas a tener esa información del producto de manera fiable. \n",
    "            </li>\n",
    "            <li style=\"margin: 20px 0;\"><strong>¿Cada cuánto re-entreno el modelo?</strong>. Para un modelo de clasificación se podría decir que se establecen unas métricas de evaluación de caíada de rendimiento o de drift en los datos y con eso decidir cuando re-entrenar con nuevos datos. En este caso hay que entender que se está trabajando con los gustos de una persona y, que cada día que esa persona interacciona con tu catálogo, te da más información acerca de sus gustos. Si necesitas capturar esta información, será necesario un entrenamiento diario. Si por el contrario, para satisfacer tu necesidad de negocio, con tener la información entrenada mensualmente te sirve pues se tira con eso.\n",
    "            </li>\n",
    "            <li style=\"margin: 20px 0;\"><strong>¿Cómo se va a querer recomendar?</strong>. Las frases \"usuarios como tu han visto...\", o \"porque has comprado esto te recomendamos...\". Se refieren a dos formas de recomendar. Por eso es importante saber cómo se va a usar las recomendaciones. Por ejemplo, si se quiere enviar un mail con ofertas sobre productos que le puedan interesar, es importante la personalización. Sin embargo, si se está en el proceso de compra y se quiere recomendar algo más para tratar de, en el último momento, que añada algún producto más; quizá es interesante recomendar en base a la compra que está haciendo. Hay que tener en cuenta que no existe un solo motor de recomendación, se puede tener todo un sistema de recomendación compuesto de varios motores.\n",
    "            </li>\n",
    "            <li style=\"margin: 20px 0;\"><strong>Perímetro de usuarios</strong>. Como hemos comentado la <em>sparsity</em> afecta directamente a la calidad de nuestro modelo, es por ello que es importante seleccionar un buen perímetro de usuarios para poder aprender y recomendar. Sin embargo, esto no significa que no se vaya a recomendar al resto, hay que tomar decisiones para ellos también y aprovechar todo el poder de los datos. Encuestas al registrarse sobre gustos, recomendar en base a popularidad, recomendar en base a variables contextuales, por geolocalización. Hay muchas formas de abarcar de una manera más personal a esos usuarios de los cuales no se disponen todavía mucha información.\n",
    "            </li>\n",
    "        </ul>\n",
    "    </body>\n",
    "</html>"
   ]
  },
  {
   "cell_type": "code",
   "execution_count": null,
   "id": "2cc64257-fd0c-4034-a509-e79a32594687",
   "metadata": {},
   "outputs": [],
   "source": []
  }
 ],
 "metadata": {
  "kernelspec": {
   "display_name": "Python 3 (ipykernel)",
   "language": "python",
   "name": "python3"
  },
  "language_info": {
   "codemirror_mode": {
    "name": "ipython",
    "version": 3
   },
   "file_extension": ".py",
   "mimetype": "text/x-python",
   "name": "python",
   "nbconvert_exporter": "python",
   "pygments_lexer": "ipython3",
   "version": "3.10.9"
  }
 },
 "nbformat": 4,
 "nbformat_minor": 5
}
