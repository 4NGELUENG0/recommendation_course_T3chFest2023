{
 "cells": [
  {
   "cell_type": "markdown",
   "id": "acfd4cc5-5613-4856-bd30-7fe4892671d9",
   "metadata": {},
   "source": [
    "<html style=\"background-color: white\">\n",
    "    <head style=\"background-color: white\">\n",
    "        <div style=\"position: relative; width: 1084px; margin: 50px auto; padding: 15px auto;\">\n",
    "            <figure style=\"max-width: 500px; float:left; padding: 10px; margin: 10px;\">\n",
    "                <a href=\"https://decide4ai.com/\" target=\"_blank\"><img style=\"padding: px; margin: 0;\" src=\"./recursos/imagenes/FULLCOLOR.png\" alt=\"logo decide\"></a>\n",
    "            </figure>\n",
    "            <figure style=\"max-width: 500px; float:left; padding: 10px; margin: 32px 10px 10px 10px;\">\n",
    "                <a href=\"https://t3chfest.es/2023/\" target=\"_blank\"><img style=\"padding: 0; margin: 0;\" src=\"./recursos/imagenes/t3f_logo.png\" alt=\"logo t3ch festival\"></a>\n",
    "            </figure>\n",
    "        </div>\n",
    "        <div style=\"position: relative; border-top:3px solid #002060; border-bottom:3px solid #002060; margin-top: 300px; height: 96px; margin-right: auto; margin-left: auto;\">\n",
    "            <a href=\"./u1c3.ipynb\" target=\"_blank\"><img style=\"float: left; height: 64px; width: 76px;  margin:1% 1% 1% 7%;\" src=\"./recursos/imagenes/ICON-FULLCOLOR-ROT.png\" alt=\"icono decide4ai rotado\"></a>\n",
    "            <h1 style=\"color: #002060; text-align: center; margin: 2% 0; padding: 0; width: 70%; float: left;\">\n",
    "                <a href=\"./u1.ipynb\" style=\"color: #002060\">Unidad 1: Introducción a motores de recomendación</a><br><a href=\"./indice.ipynb\" style=\"font-size: 10px; color: #bf27b8\">Volver al índice</a>\n",
    "            </h1>\n",
    "            <a href=\"./u1c5.ipynb\" target=\"_blank\"><img style=\"float: left; height: 64px; width: 76px; margin:1% auto 1% 1%;\" src=\"./recursos/imagenes/ICON-FULLCOLOR.png\" alt=\"icono decide4ai\"></a>\n",
    "        </div>\n",
    "        <ol style=\"text-align: left; list-style-type: none; margin-top: 75px;\">\n",
    "            <li style=\"margin: 20px 0;\"><h5><a style=\"color: #f47b4c\" href=\"./u1c1.ipynb\" target=\"_blank\">¿Qué es un motor de recomendación?</a></h5></li>\n",
    "            <li style=\"margin: 20px 0;\"><h5><a style=\"color: #f47b4c\" href=\"./u1c2.ipynb\" target=\"_blank\">Entendiendo los datos.</a></h5></li>\n",
    "            <li style=\"margin: 20px 0;\"><h5><a style=\"color: #f47b4c\" href=\"./u1c3.ipynb\" target=\"_blank\">¿Qué tipos de motores de recomendación existen?</a></h5></li>\n",
    "            <li style=\"margin: 20px 0;\"><h5><a style=\"color: #fc5100\" href=\"./u1c4.ipynb\" target=\"_blank\"><strong>¿Cómo defino el objetivo de un motor de recomendación y con qué problemas me puedo encontrar?</strong></a></h5></li>\n",
    "            <li style=\"margin: 20px 0;\"><h5><a style=\"color: #f47b4c\" href=\"./u1c5.ipynb\" target=\"_blank\">¿Qué métricas uso para un motor de recomendación?</a></h5></li>\n",
    "            <li style=\"margin: 20px 0;\"><h5><a style=\"color: #f47b4c\" href=\"./u1c6.ipynb\" target=\"_blank\">¿Cómo pongo en producción un motor de recomendación?</a></h5></li>\n",
    "        </ol>\n",
    "    </head>\n",
    "    <body>\n",
    "        <h1 style=\"color: #fc5100; margin-top: 100px;\">¿Cómo defino el objetivo de un motor de recomendación y con qué problemas me puedo encontrar?</h1>\n",
    "        <p style=\"font-size: 18px; color: #002060;\">\n",
    "            Vamos a empezar hablando de los problemas, o limitaciones, y comprobando en nuestro dataset si sufrimos de alguna. Las limitaciones más comunes que se pueden encontrar en este tipo de algoritmos son: <strong>data sparsity</strong>, <strong>escalabilidad</strong>, <strong>arranque en frío</strong> o <em>cold start</em>, <strong>privacidad</strong>, <em style=\"font-weight: bold;\">grey sheep problem</em> y <strong>productos sinónimos</strong>.\n",
    "        </p>\n",
    "        <h2 style=\"color: #f47b4c; margin-top: 100px;\">Limitaciones I: <em>Sparsity</em>.</h2>\n",
    "        <p style=\"font-size: 18px; color: #002060;\">\n",
    "            Para entender el concepto de matriz o dataset <em>sparse</em> vamos a ver su contrario, que es que una matriz o dataset sea denso. Esto es que, en este contexto, el comportamiento entre usuarios y productos esté poblado. Es decir, que los usuarios pongan un me gusta o no me gusta a las películas de Netflix por ejemplo; o que un usuario se interese por muchos productos de una tienda a través de los clicks que da en el producto.<br>\n",
    "            Una matriz de <em>user-item</em> densa nos permite conocer muy bien los gustos de los usuarios y gracias a ellos nos permite realizar mejores recomendaciones.\n",
    "        </p>\n",
    "        <p style=\"font-size: 18px; color: #002060;\">\n",
    "            Por el contrario, tener una matriz <em>sparse</em> es que los usarios no interaccionan mucho con el catálogo de productos. Un ejemplo sería disponer de un catálogo de 10K de productos y que todos los usuarios iteraccionen solo con el 1% del catálogo. Esto provoca que no se conozca bien el comportamiento de los usuarios y que no puedas realizar buenas recomendaciones.\n",
    "        </p>\n",
    "        <div style=\"position:relative; width: 400px; margin: 0 auto; padding: 0 auto;\">\n",
    "            <figure style=\"width: 400px; height: 200px; float:left; padding: 0 4px; margin: 0; text-align: center; color: #002060;\">\n",
    "                <img style=\"padding: px; margin: 0;\" src=\"./recursos/imagenes/user-item-matrix.png\" alt=\"user item matrix\">\n",
    "                <figcaption>Formato de la matriz <em>user-item</em> MxN.</figcaption>\n",
    "            </figure>\n",
    "        </div>\n",
    "    </body>\n",
    "</html>"
   ]
  },
  {
   "cell_type": "code",
   "execution_count": 1,
   "id": "256eba62-4d10-4f82-bfdc-30715c0aedcf",
   "metadata": {},
   "outputs": [],
   "source": [
    "import tools\n",
    "import numpy as np\n",
    "import pandas as pd"
   ]
  },
  {
   "cell_type": "code",
   "execution_count": 2,
   "id": "46c3ddcc-ad64-4098-94d2-758df4ee6ff2",
   "metadata": {},
   "outputs": [],
   "source": [
    "configuration = tools.read_config_data()\n",
    "dtypes_transactions = configuration.get(\"DTYPES_TRANSACTIONS\")\n",
    "dtypes_transactions = {\n",
    "    key: eval(value) if value.startswith(\"np\") else value for key, value in dtypes_transactions.items()\n",
    "}\n",
    "path_transactions = \"./recursos/datos/transactions_train.csv\"\n",
    "transactions = pd.read_csv(path_transactions, dtype=dtypes_transactions)\n",
    "trans_nrows, trans_ncols = transactions.shape"
   ]
  },
  {
   "cell_type": "code",
   "execution_count": 3,
   "id": "e85699b4-cf18-41df-963d-176b476a4f97",
   "metadata": {},
   "outputs": [
    {
     "name": "stdout",
     "output_type": "stream",
     "text": [
      "Hay un total de 1,362,281 clientes y 104,547 artículos. Esto es un total de 142,422,391,707 celdas en la matriz.\n",
      "De todas esas celdas, se tienen únicamente interacción para un 0.0192%. Lo que es una sparsity del 99.9808%.\n"
     ]
    }
   ],
   "source": [
    "# STUDENT-CODE\n",
    "\n",
    "# Calcula el sparsity de la matriz user-item. Para ello\n",
    "# calcula primero la cantidad de usuarios únicos y de productos\n",
    "# únicos que hay en el dataframe \"transactions\".\n",
    "m_num_customers = transactions[\"customer_id\"].nunique()\n",
    "n_num_articles = transactions[\"article_id\"].nunique()\n",
    "\n",
    "# Queremos calcular la sparsity, así pues vamos a eliminar aquellos\n",
    "# productos que el usuarios haya comprado varias veces.\n",
    "temp = transactions.drop_duplicates(subset=[\"customer_id\", \"article_id\"])\n",
    "\n",
    "# A partir de ahí vamos a calcular una proporción de celdas llenas.\n",
    "# Si imaginamos la matriz user-item como la de la imagen anterior,\n",
    "# el total de celdas es el producto del número de clientes por la \n",
    "# cantidad de items.\n",
    "total_cells = m_num_customers * n_num_articles\n",
    "\n",
    "# Calculamos ahora la proporción de celdas rellenas.\n",
    "filled_cells = temp.shape[0]\n",
    "filled_proportion = filled_cells/total_cells\n",
    "sparsity = 1 - filled_proportion\n",
    "print(f\"Hay un total de {m_num_customers:,} clientes y {n_num_articles:,} artículos. Esto es un total de {total_cells:,} celdas en la matriz.\")\n",
    "print(f\"De todas esas celdas, se tienen únicamente interacción para un {round(100 * filled_proportion, 4)}%. Lo que es una sparsity del {round(100 * sparsity, 4)}%.\")"
   ]
  },
  {
   "cell_type": "markdown",
   "id": "03fbaa04-2134-4e5e-8258-7af42f040705",
   "metadata": {},
   "source": [
    "<h2 style=\"color: #f47b4c; margin-top: 100px;\">Limitaciones II: <em>Cold Start</em>.</h2>\n",
    "<p style=\"font-size: 18px; color: #002060;\">\n",
    "    Para ejemplificar este problema, supongamos que se tiene un modelo de ML de clasificación de lo que sea. Se entrena el modelo y luego se predicen las etiquetas de los nuevos registros. Hasta aquí:\n",
    "</p>\n",
    "<div style=\"position:relative; width: 400px; margin: 0 auto; padding: 0 auto;\">\n",
    "    <figure style=\"width: 400px; height: 200px; float:left; padding: 0 4px; margin-top: 0px; margin-bottom: 100px; text-align: center; color: #002060;\">\n",
    "        <img style=\"padding: px; margin: 0;\" src=\"./recursos/imagenes/milhouse.gif\" alt=\"todo sale a pedir de milhouse gif\">\n",
    "    </figure>\n",
    "</div>\n",
    "<p style=\"font-size: 18px; color: #002060; margin-top: 400px\">\n",
    "    Pero imagina que cada día te llegan etiquetas nuevas. Esto significaría que tu modelo anterior ya no funciona. Tendrías que entrenar el modelo con las nuevas etiquetas.\n",
    "</p>\n",
    "<div style=\"position:relative; width: 350px; margin: 0 auto; padding: 0 auto;\">\n",
    "    <figure style=\"width: 400px; height: 200px; float:left; padding: 0 4px; margin: 0; text-align: center; color: #002060;\">\n",
    "        <img style=\"padding: px; margin: 0;\" src=\"./recursos/imagenes/ralph.gif\" alt=\"momento donde a ralph se le rompe el corazon gif\">\n",
    "    </figure>\n",
    "</div>\n",
    "<p style=\"font-size: 18px; color: #002060; margin-top: 270px\">\n",
    "    Pues esto mismo es el <em>cold start problem</em>. En este caso, si no tienes un histórico de un cliente, no puedes saber a quién se parece ese cliente. O si por ejemplo llega un producto nuevo que nadie ha comprado, tampoco se puede saber a priori a qué otros productos se puede parecer. Esto es porque se carece de esa interacción.\n",
    "</p>"
   ]
  },
  {
   "cell_type": "code",
   "execution_count": 5,
   "id": "b0459107-c6ff-4b19-a1ba-8d60e89edb46",
   "metadata": {},
   "outputs": [],
   "source": [
    "dtypes_articles = configuration.get(\"DTYPES_ARTICLES\")\n",
    "dtypes_customers = configuration.get(\"DTYPES_CUSTOMERS\")\n",
    "\n",
    "dtypes_articles = {\n",
    "    key: eval(value) if value.startswith(\"np\") else value for key, value in dtypes_articles.items()\n",
    "}\n",
    "dtypes_customers = {\n",
    "    key: eval(value) if value.startswith(\"np\") else value for key, value in dtypes_customers.items()\n",
    "}\n",
    "\n",
    "path_articles = \"./recursos/datos/articles.csv\"\n",
    "path_cutomers = \"./recursos/datos/customers.csv\"\n",
    "\n",
    "customers = pd.read_csv(path_cutomers, dtype=dtypes_customers)\n",
    "articles = pd.read_csv(path_articles, dtype=dtypes_articles)"
   ]
  },
  {
   "cell_type": "code",
   "execution_count": 6,
   "id": "429f749f-b33a-4da6-9451-2c1fa0535479",
   "metadata": {},
   "outputs": [
    {
     "name": "stdout",
     "output_type": "stream",
     "text": [
      "Hay 9,699 clientes sin histórico.\n",
      "\t Esto es un 0.7069% del total de los clientes.\n",
      "Hay 995 productos sin histórico.\n",
      "\t Esto es un 0.9428% del total de los productos.\n"
     ]
    }
   ],
   "source": [
    "# STUDENT-CODE\n",
    "\n",
    "# ¿Hay diferencias entre el número de clientes (artículos) en la matriz de user-item\n",
    "# y el número de clientes (artículos) registrados?\n",
    "n_customers_registered = customers[\"customer_id\"].nunique()\n",
    "n_products_registered = articles[\"article_id\"].nunique()\n",
    "\n",
    "print(f\"Hay {n_customers_registered - m_num_customers:,} clientes sin histórico.\")\n",
    "print(f\"\\t Esto es un {round(100 * (n_customers_registered - m_num_customers)/n_customers_registered, 4)}% del total de los clientes.\")\n",
    "print(f\"Hay {n_products_registered - n_num_articles:,} productos sin histórico.\")\n",
    "print(f\"\\t Esto es un {round(100 * (n_products_registered - n_num_articles)/n_products_registered, 4)}% del total de los productos.\")"
   ]
  },
  {
   "cell_type": "markdown",
   "id": "a9e1db70-37b0-4f1c-b133-28d20a82b20d",
   "metadata": {},
   "source": [
    "<h2 style=\"color: #f47b4c; margin-top: 100px;\">Limitaciones III: Escalabilidad.</h2>\n",
    "<p style=\"font-size: 18px; color: #002060;\">\n",
    "    El <em>Cold Start</em> es un problema para los clientes o los productos nuevos. En este caso la escalabilidad es algo similar pero desde el punto de vista de nuevas interacciones.<br>\n",
    "    Cada vez que un cliente hace algo nuevo, es necesario que se actualice la información con ese nuevo comportamiento. Sin embargo, hay que tener en cuenta también que a medida que se aumenta el número de interacciones, la matriz <em>user-item</em> se hace computacionalmente más compleja.\n",
    "</p>"
   ]
  },
  {
   "cell_type": "markdown",
   "id": "3129058f-c73d-46a3-9291-9651c7900369",
   "metadata": {
    "tags": []
   },
   "source": [
    "<h3 style=\"color: #1cb890; margin-top: 25px;\">Clientes.</h3>"
   ]
  },
  {
   "cell_type": "code",
   "execution_count": 7,
   "id": "af68de10-d671-4236-bc70-cf340da601a9",
   "metadata": {},
   "outputs": [],
   "source": [
    "from matplotlib import pyplot as plt"
   ]
  },
  {
   "cell_type": "code",
   "execution_count": 8,
   "id": "f839e0e4-0902-4aeb-bed1-57a4357d5929",
   "metadata": {},
   "outputs": [
    {
     "data": {
      "text/html": [
       "<div>\n",
       "<style scoped>\n",
       "    .dataframe tbody tr th:only-of-type {\n",
       "        vertical-align: middle;\n",
       "    }\n",
       "\n",
       "    .dataframe tbody tr th {\n",
       "        vertical-align: top;\n",
       "    }\n",
       "\n",
       "    .dataframe thead th {\n",
       "        text-align: right;\n",
       "    }\n",
       "</style>\n",
       "<table border=\"1\" class=\"dataframe\">\n",
       "  <thead>\n",
       "    <tr style=\"text-align: right;\">\n",
       "      <th></th>\n",
       "      <th>customer_id</th>\n",
       "      <th>n_articles</th>\n",
       "    </tr>\n",
       "  </thead>\n",
       "  <tbody>\n",
       "    <tr>\n",
       "      <th>995914</th>\n",
       "      <td>37f910114003074e3b0b07f16161f495f996b59e41b11b...</td>\n",
       "      <td>1</td>\n",
       "    </tr>\n",
       "    <tr>\n",
       "      <th>499</th>\n",
       "      <td>02c13bb5a2502db80d1f18b7db8ac0e250df329ba2b4aa...</td>\n",
       "      <td>82</td>\n",
       "    </tr>\n",
       "    <tr>\n",
       "      <th>1176721</th>\n",
       "      <td>c593346b8e0906557439f1e2389273cf5bd4bc7a5af14f...</td>\n",
       "      <td>1</td>\n",
       "    </tr>\n",
       "    <tr>\n",
       "      <th>988530</th>\n",
       "      <td>ea6f5d94dc8b0f3e593f8464cff617c976e8c3eb87444b...</td>\n",
       "      <td>1</td>\n",
       "    </tr>\n",
       "    <tr>\n",
       "      <th>295679</th>\n",
       "      <td>ebc3fa91ab390a219bb2503e605444c549b1b88a597903...</td>\n",
       "      <td>105</td>\n",
       "    </tr>\n",
       "  </tbody>\n",
       "</table>\n",
       "</div>"
      ],
      "text/plain": [
       "                                               customer_id  n_articles\n",
       "995914   37f910114003074e3b0b07f16161f495f996b59e41b11b...           1\n",
       "499      02c13bb5a2502db80d1f18b7db8ac0e250df329ba2b4aa...          82\n",
       "1176721  c593346b8e0906557439f1e2389273cf5bd4bc7a5af14f...           1\n",
       "988530   ea6f5d94dc8b0f3e593f8464cff617c976e8c3eb87444b...           1\n",
       "295679   ebc3fa91ab390a219bb2503e605444c549b1b88a597903...         105"
      ]
     },
     "execution_count": 8,
     "metadata": {},
     "output_type": "execute_result"
    }
   ],
   "source": [
    "# ¿Cuál es la distribución de productos (unicos) que compran los clientes?\n",
    "# O lo que es lo mismo, ¿cuál es la distribución de clientes que más compran?\n",
    "# Realiza un sample de 5 clientes para ver cuántos productos han comprado\n",
    "# y llama a la columna número de artículos como \"n_articles\"\n",
    "active_users = transactions.groupby([\"customer_id\"], as_index=False)[\"article_id\"].nunique()\n",
    "active_users = active_users.rename(columns={\"article_id\": \"n_articles\"})\n",
    "active_users.sample(n=5)"
   ]
  },
  {
   "cell_type": "code",
   "execution_count": 9,
   "id": "33b166fd-4c73-41c2-b7e8-5c00bef65c3e",
   "metadata": {},
   "outputs": [
    {
     "name": "stdout",
     "output_type": "stream",
     "text": [
      "La media de artículos que compran los clientes es 20.0446. Mientras que la mediana es 8.0.\n"
     ]
    }
   ],
   "source": [
    "# ¿Cuál es la media y la mediana de compras de un cliente?\n",
    "active_users_mean = active_users[\"n_articles\"].mean()\n",
    "active_users_median = active_users[\"n_articles\"].median()\n",
    "print(f\"La media de artículos que compran los clientes es {round(active_users_mean, 4):,}. Mientras que la mediana es {active_users_median:,}.\")"
   ]
  },
  {
   "cell_type": "code",
   "execution_count": 10,
   "id": "e65f1558-9658-427f-8605-d628fa4653aa",
   "metadata": {},
   "outputs": [
    {
     "data": {
      "image/png": "[encoded data removed]",
      "text/plain": [
       "<Figure size 1600x400 with 1 Axes>"
      ]
     },
     "metadata": {},
     "output_type": "display_data"
    }
   ],
   "source": [
    "# ¿Cuál es la distribución?\n",
    "active_users.hist(bins=100, column=\"n_articles\", figsize=(16, 4));"
   ]
  },
  {
   "cell_type": "code",
   "execution_count": 11,
   "id": "27f057f0-d8af-4f11-ba39-b52a98fe5cdd",
   "metadata": {},
   "outputs": [
    {
     "data": {
      "text/plain": [
       "count    1362281.000000\n",
       "mean          20.044645\n",
       "std           31.980251\n",
       "min            1.000000\n",
       "25%            3.000000\n",
       "50%            8.000000\n",
       "75%           24.000000\n",
       "max         1346.000000\n",
       "Name: n_articles, dtype: object"
      ]
     },
     "execution_count": 11,
     "metadata": {},
     "output_type": "execute_result"
    }
   ],
   "source": [
    "# Si hacemos el .describe() de la variable \"n_articles\" se obtiene lo siguiente\n",
    "active_users[\"n_articles\"].describe().apply(lambda x: format(x, \"f\"))"
   ]
  },
  {
   "cell_type": "code",
   "execution_count": 12,
   "id": "2557d3ff-5da2-48ae-ae3b-672041c64d97",
   "metadata": {},
   "outputs": [
    {
     "name": "stdout",
     "output_type": "stream",
     "text": [
      "Un 2.46065% de clientes se encuentran en el top 20%. Con un total de 33,521 usuarios.\n"
     ]
    }
   ],
   "source": [
    "# Ordena los clientes de más activos a menos.\n",
    "active_users = active_users.sort_values(by=\"n_articles\", ascending=False)\n",
    "\n",
    "# Calcula el pct que corresponde a cada usuario sobre el total de productos vendidos.\n",
    "active_users[\"pct\"] = 100 * active_users[\"n_articles\"] / active_users[\"n_articles\"].sum()\n",
    "\n",
    "# Calcula el sumatorio acumulado del pct para filtrar por clientes\n",
    "active_users[\"cs\"] = np.cumsum(active_users[\"pct\"])\n",
    "\n",
    "# ¿Cuántos clientes están en el top 20% de las compras?\n",
    "top_users = active_users[active_users[\"cs\"] <= 20].shape[0]\n",
    "\n",
    "pct = round(100 * top_users/active_users[\"customer_id\"].nunique(), 5)\n",
    "print(f\"Un {pct}% de clientes se encuentran en el top 20%. Con un total de {top_users:,} usuarios.\")"
   ]
  },
  {
   "cell_type": "code",
   "execution_count": 13,
   "id": "e983dfd9-55c3-4d2d-b2be-6717903a73e1",
   "metadata": {},
   "outputs": [
    {
     "name": "stdout",
     "output_type": "stream",
     "text": [
      "Un 21.12134% de clientes han comprado 2 artículos o menos. Con un total de 287,732 usuarios.\n"
     ]
    }
   ],
   "source": [
    "# ¿Qué cantidad de usuarios han comprado 2 artículos o menos?\n",
    "users = active_users[active_users[\"n_articles\"] <= 2].shape[0]\n",
    "\n",
    "pct = round(100 * users/active_users[\"customer_id\"].nunique(), 5)\n",
    "print(f\"Un {pct}% de clientes han comprado 2 artículos o menos. Con un total de {users:,} usuarios.\")"
   ]
  },
  {
   "cell_type": "markdown",
   "id": "e81dd03d-1098-4e5d-9397-362751499375",
   "metadata": {
    "tags": []
   },
   "source": [
    "<h3 style=\"color: #1cb890; margin-top: 25px;\">Artículos.</h3>"
   ]
  },
  {
   "cell_type": "code",
   "execution_count": 14,
   "id": "a44854c8-e639-42a5-bdf2-3de6fe2fc910",
   "metadata": {},
   "outputs": [
    {
     "data": {
      "text/html": [
       "<div>\n",
       "<style scoped>\n",
       "    .dataframe tbody tr th:only-of-type {\n",
       "        vertical-align: middle;\n",
       "    }\n",
       "\n",
       "    .dataframe tbody tr th {\n",
       "        vertical-align: top;\n",
       "    }\n",
       "\n",
       "    .dataframe thead th {\n",
       "        text-align: right;\n",
       "    }\n",
       "</style>\n",
       "<table border=\"1\" class=\"dataframe\">\n",
       "  <thead>\n",
       "    <tr style=\"text-align: right;\">\n",
       "      <th></th>\n",
       "      <th>article_id</th>\n",
       "      <th>n_times</th>\n",
       "    </tr>\n",
       "  </thead>\n",
       "  <tbody>\n",
       "    <tr>\n",
       "      <th>64402</th>\n",
       "      <td>0768998001</td>\n",
       "      <td>117</td>\n",
       "    </tr>\n",
       "    <tr>\n",
       "      <th>4733</th>\n",
       "      <td>0564312012</td>\n",
       "      <td>32</td>\n",
       "    </tr>\n",
       "    <tr>\n",
       "      <th>57411</th>\n",
       "      <td>0722174001</td>\n",
       "      <td>921</td>\n",
       "    </tr>\n",
       "    <tr>\n",
       "      <th>90005</th>\n",
       "      <td>0883544001</td>\n",
       "      <td>122</td>\n",
       "    </tr>\n",
       "    <tr>\n",
       "      <th>10605</th>\n",
       "      <td>0628816001</td>\n",
       "      <td>596</td>\n",
       "    </tr>\n",
       "  </tbody>\n",
       "</table>\n",
       "</div>"
      ],
      "text/plain": [
       "       article_id  n_times\n",
       "64402  0768998001      117\n",
       "4733   0564312012       32\n",
       "57411  0722174001      921\n",
       "90005  0883544001      122\n",
       "10605  0628816001      596"
      ]
     },
     "execution_count": 14,
     "metadata": {},
     "output_type": "execute_result"
    }
   ],
   "source": [
    "# ¿Cuáles son los artículos más vendidos? (Si un usuario ha comprado un artículo dos veces\n",
    "# no lo cuentes). Realiza un sample de 5 productos para ver cuántas veces se ha comprado un artículo\n",
    "# y llama a la columna \"n_times\"\n",
    "ms_articles = transactions.groupby([\"article_id\"], as_index=False)[\"customer_id\"].nunique()  # ms -> Most Seller\n",
    "ms_articles = ms_articles.rename(columns={\"customer_id\": \"n_times\"})\n",
    "ms_articles.sample(n=5)"
   ]
  },
  {
   "cell_type": "code",
   "execution_count": 15,
   "id": "c70d98da-fc2d-4375-8d32-a1b3d78c57d7",
   "metadata": {},
   "outputs": [
    {
     "data": {
      "image/png": "[encoded data removed]",
      "text/plain": [
       "<PIL.Image.Image image mode=RGB size=200x200>"
      ]
     },
     "execution_count": 15,
     "metadata": {},
     "output_type": "execute_result"
    }
   ],
   "source": [
    "tools.show_article(article_id=\"0789303003\")"
   ]
  },
  {
   "cell_type": "code",
   "execution_count": 16,
   "id": "62fab705-0900-4b53-9c90-91c50d47867d",
   "metadata": {},
   "outputs": [
    {
     "name": "stdout",
     "output_type": "stream",
     "text": [
      "De media, los artículos se compran 261.1882 veces. Mientras que la mediana es 58.0.\n"
     ]
    }
   ],
   "source": [
    "# ¿Cuál es la media y la mediana de ventas de un artículo?\n",
    "ms_articles_mean = ms_articles[\"n_times\"].mean()\n",
    "ms_articles_median = ms_articles[\"n_times\"].median()\n",
    "print(f\"De media, los artículos se compran {round(ms_articles_mean, 4):,} veces. Mientras que la mediana es {ms_articles_median:,}.\")"
   ]
  },
  {
   "cell_type": "code",
   "execution_count": 17,
   "id": "55da266c-d92f-4c09-8983-39d76688d7ac",
   "metadata": {},
   "outputs": [
    {
     "data": {
      "image/png": "[encoded data removed]",
      "text/plain": [
       "<Figure size 1600x400 with 1 Axes>"
      ]
     },
     "metadata": {},
     "output_type": "display_data"
    }
   ],
   "source": [
    "# ¿Cuál es la distribución de los artículos que se compran?\n",
    "ms_articles.hist(bins=100, column=\"n_times\", figsize=(16, 4));"
   ]
  },
  {
   "cell_type": "code",
   "execution_count": 18,
   "id": "6492cdd6-24ef-4c3f-a9be-c106477aba4f",
   "metadata": {},
   "outputs": [
    {
     "data": {
      "text/plain": [
       "count    104547.000000\n",
       "mean        261.188164\n",
       "std         637.906882\n",
       "min           1.000000\n",
       "25%          12.000000\n",
       "50%          58.000000\n",
       "75%         250.000000\n",
       "max       32251.000000\n",
       "Name: n_times, dtype: object"
      ]
     },
     "execution_count": 18,
     "metadata": {},
     "output_type": "execute_result"
    }
   ],
   "source": [
    "# Si hacemos el .describe() de la variable \"n_times\" se obtiene lo siguiente\n",
    "ms_articles[\"n_times\"].describe().apply(lambda x: format(x, \"f\"))"
   ]
  },
  {
   "cell_type": "code",
   "execution_count": 19,
   "id": "ab744667-e4fe-4325-9536-12ed892d2760",
   "metadata": {},
   "outputs": [
    {
     "name": "stdout",
     "output_type": "stream",
     "text": [
      "Un 1.25972% de artículos se encuentran en el top 20%. Con un total de 1,317 artículos.\n"
     ]
    }
   ],
   "source": [
    "# Ordena los artículos de más vendidos a menos.\n",
    "ms_articles = ms_articles.sort_values(by=\"n_times\", ascending=False)\n",
    "\n",
    "# Calcula el pct que corresponde a cada articulo sobre el total de productos vendidos.\n",
    "ms_articles[\"pct\"] = 100 * ms_articles[\"n_times\"] / ms_articles[\"n_times\"].sum()\n",
    "\n",
    "# Calcula el sumatorio acumulado del pct para filtrar por articulos\n",
    "ms_articles[\"cs\"] = np.cumsum(ms_articles[\"pct\"])\n",
    "\n",
    "# ¿Cuántos artículos están en el top 20% de las compras?\n",
    "top_articles = ms_articles[ms_articles[\"cs\"] <= 20].shape[0]\n",
    "\n",
    "pct = round(100 * top_articles/ms_articles[\"article_id\"].nunique(), 5)\n",
    "print(f\"Un {pct}% de artículos se encuentran en el top 20%. Con un total de {top_articles:,} artículos.\")"
   ]
  },
  {
   "cell_type": "code",
   "execution_count": 20,
   "id": "2aed1a27-b713-4ce1-8dc0-8e3a500b77ed",
   "metadata": {},
   "outputs": [
    {
     "name": "stdout",
     "output_type": "stream",
     "text": [
      "Un 7.78502% de artículos han sido comprados 2 veces o menos. Con un total de 8,139 artículos.\n"
     ]
    }
   ],
   "source": [
    "# ¿Qué cantidad de artículos han sido comprados 2 veces o menos?\n",
    "art = ms_articles[ms_articles[\"n_times\"] <= 2].shape[0]\n",
    "\n",
    "pct = round(100 * art/ms_articles[\"article_id\"].nunique(), 5)\n",
    "print(f\"Un {pct}% de artículos han sido comprados 2 veces o menos. Con un total de {art:,} artículos.\")"
   ]
  },
  {
   "cell_type": "markdown",
   "id": "76718f0c-8460-4635-9f4e-53e37505efec",
   "metadata": {},
   "source": [
    "<h3 style=\"color: #1cb890; margin-top: 25px;\">Perímetro.</h3>\n",
    "<p style=\"font-size: 18px; color: #002060;\">\n",
    "    Como tal, esto que se acaba de ver aquí no es un problema de escalabilidad. Esto es porque estos problemas vienen cuando se añaden productos nuevos o cuando llegan usuarios nuevos que hagan que la matriz <em>user-item</em> sea más compleja. Sin embargo, sabiendo que de lo que se trata es de recomendar, ¿qué se va a poder recomendar a un usuario que solo ha comprado un artículo? o ¿a qué artículos se van a parecer un producto dado, si este solo se ha comprado una vez?<br>\n",
    "    Esto es también un problema de escalabilidad que se tiene que tener en cuenta para definir el perímetro del motor de recomendación.\n",
    "</p>"
   ]
  },
  {
   "cell_type": "code",
   "execution_count": 21,
   "id": "1e50938b-884d-45e4-aeea-9de9b74f0afb",
   "metadata": {},
   "outputs": [],
   "source": [
    "import plotly.io as pio\n",
    "from plotly import graph_objects as go\n",
    "\n",
    "pio.renderers.default = \"iframe\""
   ]
  },
  {
   "cell_type": "code",
   "execution_count": 22,
   "id": "4d295c06-26a9-44f8-84ef-15148b6737db",
   "metadata": {},
   "outputs": [],
   "source": [
    "# Vamos a reducir el perímetro de usuarios y de productos sobre los cuáles se van a buscar similitudes.\n",
    "# Obtén solo los artículos que se encuentren en el top 20% de ventas.\n",
    "filter_products = ms_articles[(ms_articles[\"cs\"] <= 20)][\"article_id\"].tolist()\n",
    "\n",
    "# Aplica el filtro\n",
    "transactions_f1 = transactions[transactions[\"article_id\"].isin(filter_products)]\n",
    "\n",
    "trans_nrows_f1, trans_ncols_f1 = transactions_f1.shape\n",
    "m_num_customers_f1 = transactions_f1[\"customer_id\"].nunique()\n",
    "n_num_articles_f1 = transactions_f1[\"article_id\"].nunique()"
   ]
  },
  {
   "cell_type": "code",
   "execution_count": 23,
   "id": "190d4e94-3ae6-484a-9afe-1ad20b1f555e",
   "metadata": {},
   "outputs": [
    {
     "data": {
      "text/plain": [
       "count    1362281.000000\n",
       "mean           4.007417\n",
       "std            6.205969\n",
       "min            0.000000\n",
       "25%            0.000000\n",
       "50%            2.000000\n",
       "75%            5.000000\n",
       "max          174.000000\n",
       "Name: num_articles, dtype: object"
      ]
     },
     "execution_count": 23,
     "metadata": {},
     "output_type": "execute_result"
    }
   ],
   "source": [
    "# Al reducir el numero de artículos puede ocurrir que un usuario ahora parezca que\n",
    "# no ha comprado ningún item. Compruébalo.\n",
    "ixu = transactions_f1.groupby([\"customer_id\"], as_index=False)[\"article_id\"].nunique()\n",
    "ixu = ixu.rename(columns={\"article_id\": \"num_articles\"})\n",
    "ixu[\"num_articles\"].describe().apply(lambda x: format(x, \"f\"))"
   ]
  },
  {
   "cell_type": "code",
   "execution_count": 24,
   "id": "d9f49254-7fd8-4437-82f6-523994431ffe",
   "metadata": {},
   "outputs": [],
   "source": [
    "# Obtén de nuevo la distribución de clientes que más compran.\n",
    "active_users_f1 = transactions_f1.groupby([\"customer_id\"], as_index=False)[\"article_id\"].nunique()\n",
    "active_users_f1 = active_users_f1.rename(columns={\"article_id\": \"n_articles\"})\n",
    "\n",
    "# Ordena los clientes de más activos a menos.\n",
    "active_users_f1 = active_users_f1.sort_values(by=\"n_articles\", ascending=False)\n",
    "\n",
    "# Calcula el pct que corresponde a cada usuario sobre el total de productos vendidos.\n",
    "active_users_f1[\"pct\"] = 100 * active_users_f1[\"n_articles\"] / active_users_f1[\"n_articles\"].sum()\n",
    "\n",
    "# Calcula el sumatorio acumulado del pct para filtrar por clientes\n",
    "active_users_f1[\"cs\"] = np.cumsum(active_users_f1[\"pct\"])\n",
    "\n",
    "# Obten solo los clientes que se encuentren en el top 20% de ventas.\n",
    "filter_users = active_users_f1[(active_users_f1[\"cs\"] <= 20)][\"customer_id\"].tolist()\n",
    "\n",
    "# Aplica el filtro\n",
    "transactions_f2 = transactions_f1[transactions_f1[\"customer_id\"].isin(filter_users)]\n",
    "\n",
    "trans_nrows_f2, trans_ncols_f2 = transactions_f2.shape\n",
    "m_num_customers_f2 = transactions_f2[\"customer_id\"].nunique()\n",
    "n_num_articles_f2 = transactions_f2[\"article_id\"].nunique()"
   ]
  },
  {
   "cell_type": "code",
   "execution_count": 25,
   "id": "5f16bb78-cdf5-4d88-89e1-741f61cd96a2",
   "metadata": {},
   "outputs": [
    {
     "data": {
      "text/html": [
       "<iframe\n",
       "    scrolling=\"no\"\n",
       "    width=\"100%\"\n",
       "    height=\"545px\"\n",
       "    src=\"iframe_figures/figure_25.html\"\n",
       "    frameborder=\"0\"\n",
       "    allowfullscreen\n",
       "></iframe>\n"
      ]
     },
     "metadata": {},
     "output_type": "display_data"
    }
   ],
   "source": [
    "fig = go.Figure()\n",
    "fig.add_trace(\n",
    "    go.Funnel(\n",
    "        name=\"Transactions rows\",\n",
    "        y=[\"Init\", \"After items filter\", \"After user filter\"],\n",
    "        x=[trans_nrows, trans_nrows_f1, trans_nrows_f2],\n",
    "        textposition=\"inside\",\n",
    "        textinfo=\"value+percent initial+percent previous\",\n",
    "        hoverinfo=\"none\",\n",
    "        marker={\"color\": \"#67fbb4\"},\n",
    "    )\n",
    ")\n",
    "fig.update_layout(\n",
    "    title=\"Transactions rows\",\n",
    "    font=dict(\n",
    "        size=12,\n",
    "    )\n",
    ")\n",
    "fig.show()"
   ]
  },
  {
   "cell_type": "code",
   "execution_count": 26,
   "id": "33a6f005-7f82-44e8-80d3-50a89e1bccaa",
   "metadata": {},
   "outputs": [
    {
     "data": {
      "text/html": [
       "<iframe\n",
       "    scrolling=\"no\"\n",
       "    width=\"100%\"\n",
       "    height=\"545px\"\n",
       "    src=\"iframe_figures/figure_26.html\"\n",
       "    frameborder=\"0\"\n",
       "    allowfullscreen\n",
       "></iframe>\n"
      ]
     },
     "metadata": {},
     "output_type": "display_data"
    }
   ],
   "source": [
    "fig = go.Figure()\n",
    "fig.add_trace(\n",
    "    go.Funnel(\n",
    "        name=\"M users\",\n",
    "        y=[\"Init\", \"After items filter\", \"After user filter\"],\n",
    "        x=[m_num_customers, m_num_customers_f1, m_num_customers_f2],\n",
    "        textposition=\"inside\",\n",
    "        textinfo=\"value+percent initial+percent previous\",\n",
    "        hoverinfo=\"none\",\n",
    "        marker={\"color\": \"#7b5bc7\"},\n",
    "    )\n",
    ")\n",
    "fig.update_layout(\n",
    "    title=\"M users\",\n",
    "    font=dict(\n",
    "        size=12,\n",
    "    )\n",
    ")\n",
    "fig.show()"
   ]
  },
  {
   "cell_type": "code",
   "execution_count": 27,
   "id": "4890cf01-d9b5-43b1-801b-cb17839fbe6d",
   "metadata": {},
   "outputs": [
    {
     "data": {
      "text/html": [
       "<iframe\n",
       "    scrolling=\"no\"\n",
       "    width=\"100%\"\n",
       "    height=\"545px\"\n",
       "    src=\"iframe_figures/figure_27.html\"\n",
       "    frameborder=\"0\"\n",
       "    allowfullscreen\n",
       "></iframe>\n"
      ]
     },
     "metadata": {},
     "output_type": "display_data"
    }
   ],
   "source": [
    "fig = go.Figure()\n",
    "fig.add_trace(\n",
    "    go.Funnel(\n",
    "        name=\"N items\",\n",
    "        orientation=\"h\",\n",
    "        y=[\"Init\", \"After items filter\", \"After user filter\"],\n",
    "        x=[n_num_articles, n_num_articles_f1, n_num_articles_f2],\n",
    "        textposition=\"inside\",\n",
    "        textinfo=\"value+percent initial+percent previous\",\n",
    "        hoverinfo=\"none\",\n",
    "        marker={\"color\": \"#f58c6a\"},\n",
    "    )\n",
    ")\n",
    "fig.update_layout(\n",
    "    title=\"N items\",\n",
    "    font=dict(\n",
    "        size=12,\n",
    "    )\n",
    ")\n",
    "fig.show()"
   ]
  },
  {
   "cell_type": "code",
   "execution_count": 28,
   "id": "52c42988-f169-48e9-913e-f63f9cc2a00c",
   "metadata": {},
   "outputs": [
    {
     "name": "stdout",
     "output_type": "stream",
     "text": [
      "Hay un total de 947,577 clientes y 1,317 articulos. Esto es un total de 1,247,958,909 celdas en la matriz.\n",
      "De todas esas celdas, se tienen únicamente interacción para un 0.4375%. Lo que es una sparsity del 99.5625%.\n"
     ]
    }
   ],
   "source": [
    "# Calcula el sparsity de la matriz user-item tras el primer filtrado\n",
    "filled_cells_f1 = transactions_f1.drop_duplicates(subset=[\"customer_id\", \"article_id\"]).shape[0]\n",
    "total_cells_f1 = m_num_customers_f1 * n_num_articles_f1\n",
    "filled_proportion_f1 = filled_cells_f1/total_cells_f1\n",
    "sparsity_f1 = 1 - filled_proportion_f1\n",
    "print(f\"Hay un total de {m_num_customers_f1:,} clientes y {n_num_articles_f1:,} articulos. Esto es un total de {total_cells_f1:,} celdas en la matriz.\")\n",
    "print(f\"De todas esas celdas, se tienen únicamente interacción para un {round(100 * filled_proportion_f1, 4)}%. Lo que es una sparsity del {round(100 * sparsity_f1, 4)}%.\")"
   ]
  },
  {
   "cell_type": "code",
   "execution_count": 29,
   "id": "f8aa8072-4352-4261-8ef3-ff550b268522",
   "metadata": {},
   "outputs": [
    {
     "name": "stdout",
     "output_type": "stream",
     "text": [
      "Hay un total de 36,816 clientes y 1,317 articulos. Esto es un total de 48,486,672 celdas en la matriz.\n",
      "De todas esas celdas, se tienen únicamente interacción para un 2.2518%. Lo que es una sparsity del 97.7482%.\n"
     ]
    }
   ],
   "source": [
    "# Calcula el sparsity de la matriz user-item tras el segundo filtrado\n",
    "filled_cells_f2 = transactions_f2.drop_duplicates(subset=[\"customer_id\", \"article_id\"]).shape[0]\n",
    "total_cells_f2 = m_num_customers_f2 * n_num_articles_f2\n",
    "filled_proportion_f2 = filled_cells_f2/total_cells_f2\n",
    "sparsity_f2 = 1 - filled_proportion_f2\n",
    "print(f\"Hay un total de {m_num_customers_f2:,} clientes y {n_num_articles_f2:,} articulos. Esto es un total de {total_cells_f2:,} celdas en la matriz.\")\n",
    "print(f\"De todas esas celdas, se tienen únicamente interacción para un {round(100 * filled_proportion_f2, 4)}%. Lo que es una sparsity del {round(100 * sparsity_f2, 4)}%.\")"
   ]
  },
  {
   "cell_type": "code",
   "execution_count": 30,
   "id": "6338268d-f994-4b57-8381-66d6f2942546",
   "metadata": {},
   "outputs": [
    {
     "name": "stderr",
     "output_type": "stream",
     "text": [
      "C:\\Users\\Rafael Tomé\\AppData\\Local\\Temp\\ipykernel_25996\\1102269205.py:1: SettingWithCopyWarning:\n",
      "\n",
      "\n",
      "A value is trying to be set on a copy of a slice from a DataFrame.\n",
      "Try using .loc[row_indexer,col_indexer] = value instead\n",
      "\n",
      "See the caveats in the documentation: https://pandas.pydata.org/pandas-docs/stable/user_guide/indexing.html#returning-a-view-versus-a-copy\n",
      "\n",
      "C:\\Users\\Rafael Tomé\\AppData\\Local\\Temp\\ipykernel_25996\\1102269205.py:2: SettingWithCopyWarning:\n",
      "\n",
      "\n",
      "A value is trying to be set on a copy of a slice from a DataFrame.\n",
      "Try using .loc[row_indexer,col_indexer] = value instead\n",
      "\n",
      "See the caveats in the documentation: https://pandas.pydata.org/pandas-docs/stable/user_guide/indexing.html#returning-a-view-versus-a-copy\n",
      "\n",
      "C:\\Users\\Rafael Tomé\\AppData\\Local\\Temp\\ipykernel_25996\\1102269205.py:4: SettingWithCopyWarning:\n",
      "\n",
      "\n",
      "A value is trying to be set on a copy of a slice from a DataFrame.\n",
      "Try using .loc[row_indexer,col_indexer] = value instead\n",
      "\n",
      "See the caveats in the documentation: https://pandas.pydata.org/pandas-docs/stable/user_guide/indexing.html#returning-a-view-versus-a-copy\n",
      "\n"
     ]
    }
   ],
   "source": [
    "transactions_f2[\"customer_id\"] = transactions_f2[\"customer_id\"].astype(str)\n",
    "transactions_f2[\"article_id\"] = transactions_f2[\"article_id\"].astype(str)\n",
    "\n",
    "transactions_f2[\"count\"] = transactions_f2.groupby([\"customer_id\", \"article_id\"]).transform(\"size\")"
   ]
  },
  {
   "cell_type": "code",
   "execution_count": 31,
   "id": "77fb076a-c8e8-47f2-97df-3a56eb6db07e",
   "metadata": {
    "tags": []
   },
   "outputs": [],
   "source": [
    "user_item_matrix = pd.pivot_table(\n",
    "    data=transactions_f2, values=\"count\", index=\"customer_id\", columns=\"article_id\", fill_value=0\n",
    ")"
   ]
  },
  {
   "cell_type": "code",
   "execution_count": 32,
   "id": "eb1a42fa-025d-4ee1-8115-2245848891a0",
   "metadata": {},
   "outputs": [
    {
     "data": {
      "text/html": [
       "<div>\n",
       "<style scoped>\n",
       "    .dataframe tbody tr th:only-of-type {\n",
       "        vertical-align: middle;\n",
       "    }\n",
       "\n",
       "    .dataframe tbody tr th {\n",
       "        vertical-align: top;\n",
       "    }\n",
       "\n",
       "    .dataframe thead th {\n",
       "        text-align: right;\n",
       "    }\n",
       "</style>\n",
       "<table border=\"1\" class=\"dataframe\">\n",
       "  <thead>\n",
       "    <tr style=\"text-align: right;\">\n",
       "      <th>article_id</th>\n",
       "      <th>0108775015</th>\n",
       "      <th>0108775044</th>\n",
       "      <th>0111565001</th>\n",
       "      <th>0111586001</th>\n",
       "      <th>0111593001</th>\n",
       "      <th>0120129001</th>\n",
       "      <th>0123173001</th>\n",
       "      <th>0148033001</th>\n",
       "      <th>0153115019</th>\n",
       "      <th>0153115020</th>\n",
       "      <th>...</th>\n",
       "      <th>0879248001</th>\n",
       "      <th>0879781003</th>\n",
       "      <th>0880839001</th>\n",
       "      <th>0882888002</th>\n",
       "      <th>0883024001</th>\n",
       "      <th>0883033001</th>\n",
       "      <th>0883033002</th>\n",
       "      <th>0915526001</th>\n",
       "      <th>0916468003</th>\n",
       "      <th>0918292001</th>\n",
       "    </tr>\n",
       "    <tr>\n",
       "      <th>customer_id</th>\n",
       "      <th></th>\n",
       "      <th></th>\n",
       "      <th></th>\n",
       "      <th></th>\n",
       "      <th></th>\n",
       "      <th></th>\n",
       "      <th></th>\n",
       "      <th></th>\n",
       "      <th></th>\n",
       "      <th></th>\n",
       "      <th></th>\n",
       "      <th></th>\n",
       "      <th></th>\n",
       "      <th></th>\n",
       "      <th></th>\n",
       "      <th></th>\n",
       "      <th></th>\n",
       "      <th></th>\n",
       "      <th></th>\n",
       "      <th></th>\n",
       "      <th></th>\n",
       "    </tr>\n",
       "  </thead>\n",
       "  <tbody>\n",
       "    <tr>\n",
       "      <th>0001d44dbe7f6c4b35200abdb052c77a87596fe1bdcc37e011580a479e80aa94</th>\n",
       "      <td>0</td>\n",
       "      <td>0</td>\n",
       "      <td>0</td>\n",
       "      <td>0</td>\n",
       "      <td>0</td>\n",
       "      <td>0</td>\n",
       "      <td>0</td>\n",
       "      <td>0</td>\n",
       "      <td>0</td>\n",
       "      <td>0</td>\n",
       "      <td>...</td>\n",
       "      <td>0</td>\n",
       "      <td>0</td>\n",
       "      <td>0</td>\n",
       "      <td>0</td>\n",
       "      <td>0</td>\n",
       "      <td>0</td>\n",
       "      <td>0</td>\n",
       "      <td>0</td>\n",
       "      <td>0</td>\n",
       "      <td>0</td>\n",
       "    </tr>\n",
       "    <tr>\n",
       "      <th>00023e3dd8618bc63ccad995a5ac62e21177338d642d66b42e0038c6b10f655a</th>\n",
       "      <td>0</td>\n",
       "      <td>0</td>\n",
       "      <td>0</td>\n",
       "      <td>0</td>\n",
       "      <td>0</td>\n",
       "      <td>0</td>\n",
       "      <td>0</td>\n",
       "      <td>0</td>\n",
       "      <td>0</td>\n",
       "      <td>0</td>\n",
       "      <td>...</td>\n",
       "      <td>0</td>\n",
       "      <td>0</td>\n",
       "      <td>0</td>\n",
       "      <td>0</td>\n",
       "      <td>0</td>\n",
       "      <td>0</td>\n",
       "      <td>0</td>\n",
       "      <td>0</td>\n",
       "      <td>0</td>\n",
       "      <td>0</td>\n",
       "    </tr>\n",
       "    <tr>\n",
       "      <th>000ed4cabda96069b547ae531c66de5f1bf6a7e5b83aa8ecc5abe84a9f6779e0</th>\n",
       "      <td>0</td>\n",
       "      <td>0</td>\n",
       "      <td>0</td>\n",
       "      <td>0</td>\n",
       "      <td>0</td>\n",
       "      <td>0</td>\n",
       "      <td>0</td>\n",
       "      <td>0</td>\n",
       "      <td>0</td>\n",
       "      <td>0</td>\n",
       "      <td>...</td>\n",
       "      <td>0</td>\n",
       "      <td>0</td>\n",
       "      <td>0</td>\n",
       "      <td>0</td>\n",
       "      <td>0</td>\n",
       "      <td>0</td>\n",
       "      <td>0</td>\n",
       "      <td>0</td>\n",
       "      <td>0</td>\n",
       "      <td>0</td>\n",
       "    </tr>\n",
       "    <tr>\n",
       "      <th>000fb6e772c5d0023892065e659963da90b1866035558ec16fca51b0dcfb7e59</th>\n",
       "      <td>0</td>\n",
       "      <td>3</td>\n",
       "      <td>1</td>\n",
       "      <td>1</td>\n",
       "      <td>1</td>\n",
       "      <td>0</td>\n",
       "      <td>0</td>\n",
       "      <td>0</td>\n",
       "      <td>0</td>\n",
       "      <td>0</td>\n",
       "      <td>...</td>\n",
       "      <td>0</td>\n",
       "      <td>0</td>\n",
       "      <td>0</td>\n",
       "      <td>0</td>\n",
       "      <td>0</td>\n",
       "      <td>0</td>\n",
       "      <td>0</td>\n",
       "      <td>0</td>\n",
       "      <td>0</td>\n",
       "      <td>0</td>\n",
       "    </tr>\n",
       "    <tr>\n",
       "      <th>0010e8eb18f131e724d6997909af0808adbba057529edb1523944f7d4e02b4ce</th>\n",
       "      <td>0</td>\n",
       "      <td>0</td>\n",
       "      <td>0</td>\n",
       "      <td>0</td>\n",
       "      <td>0</td>\n",
       "      <td>0</td>\n",
       "      <td>0</td>\n",
       "      <td>0</td>\n",
       "      <td>0</td>\n",
       "      <td>0</td>\n",
       "      <td>...</td>\n",
       "      <td>0</td>\n",
       "      <td>0</td>\n",
       "      <td>0</td>\n",
       "      <td>0</td>\n",
       "      <td>0</td>\n",
       "      <td>1</td>\n",
       "      <td>0</td>\n",
       "      <td>0</td>\n",
       "      <td>0</td>\n",
       "      <td>0</td>\n",
       "    </tr>\n",
       "    <tr>\n",
       "      <th>...</th>\n",
       "      <td>...</td>\n",
       "      <td>...</td>\n",
       "      <td>...</td>\n",
       "      <td>...</td>\n",
       "      <td>...</td>\n",
       "      <td>...</td>\n",
       "      <td>...</td>\n",
       "      <td>...</td>\n",
       "      <td>...</td>\n",
       "      <td>...</td>\n",
       "      <td>...</td>\n",
       "      <td>...</td>\n",
       "      <td>...</td>\n",
       "      <td>...</td>\n",
       "      <td>...</td>\n",
       "      <td>...</td>\n",
       "      <td>...</td>\n",
       "      <td>...</td>\n",
       "      <td>...</td>\n",
       "      <td>...</td>\n",
       "      <td>...</td>\n",
       "    </tr>\n",
       "    <tr>\n",
       "      <th>fff7e7674509592818bf453391af43a85eaaac9a52d8587c886a603aeeb7df64</th>\n",
       "      <td>0</td>\n",
       "      <td>0</td>\n",
       "      <td>0</td>\n",
       "      <td>0</td>\n",
       "      <td>7</td>\n",
       "      <td>0</td>\n",
       "      <td>0</td>\n",
       "      <td>0</td>\n",
       "      <td>0</td>\n",
       "      <td>0</td>\n",
       "      <td>...</td>\n",
       "      <td>0</td>\n",
       "      <td>0</td>\n",
       "      <td>0</td>\n",
       "      <td>0</td>\n",
       "      <td>0</td>\n",
       "      <td>0</td>\n",
       "      <td>0</td>\n",
       "      <td>0</td>\n",
       "      <td>0</td>\n",
       "      <td>0</td>\n",
       "    </tr>\n",
       "    <tr>\n",
       "      <th>fff7f145e356557541af211bb11aa9d78d7edf51bd3c4033830eaf1a188ebf2f</th>\n",
       "      <td>0</td>\n",
       "      <td>0</td>\n",
       "      <td>0</td>\n",
       "      <td>0</td>\n",
       "      <td>0</td>\n",
       "      <td>0</td>\n",
       "      <td>0</td>\n",
       "      <td>0</td>\n",
       "      <td>0</td>\n",
       "      <td>0</td>\n",
       "      <td>...</td>\n",
       "      <td>0</td>\n",
       "      <td>0</td>\n",
       "      <td>0</td>\n",
       "      <td>0</td>\n",
       "      <td>0</td>\n",
       "      <td>0</td>\n",
       "      <td>0</td>\n",
       "      <td>0</td>\n",
       "      <td>0</td>\n",
       "      <td>0</td>\n",
       "    </tr>\n",
       "    <tr>\n",
       "      <th>fffae8eb3a282d8c43c77dd2ca0621703b71e90904dfde2189bdd644f59071dd</th>\n",
       "      <td>0</td>\n",
       "      <td>0</td>\n",
       "      <td>0</td>\n",
       "      <td>0</td>\n",
       "      <td>0</td>\n",
       "      <td>0</td>\n",
       "      <td>0</td>\n",
       "      <td>0</td>\n",
       "      <td>0</td>\n",
       "      <td>0</td>\n",
       "      <td>...</td>\n",
       "      <td>0</td>\n",
       "      <td>0</td>\n",
       "      <td>0</td>\n",
       "      <td>0</td>\n",
       "      <td>0</td>\n",
       "      <td>0</td>\n",
       "      <td>0</td>\n",
       "      <td>0</td>\n",
       "      <td>0</td>\n",
       "      <td>0</td>\n",
       "    </tr>\n",
       "    <tr>\n",
       "      <th>fffb68e203e88449a1dc7173e938b1b3e91b0c93ff4e1dd854c1d66b22d3d2b6</th>\n",
       "      <td>0</td>\n",
       "      <td>0</td>\n",
       "      <td>0</td>\n",
       "      <td>0</td>\n",
       "      <td>0</td>\n",
       "      <td>0</td>\n",
       "      <td>0</td>\n",
       "      <td>0</td>\n",
       "      <td>0</td>\n",
       "      <td>0</td>\n",
       "      <td>...</td>\n",
       "      <td>0</td>\n",
       "      <td>0</td>\n",
       "      <td>0</td>\n",
       "      <td>0</td>\n",
       "      <td>0</td>\n",
       "      <td>0</td>\n",
       "      <td>0</td>\n",
       "      <td>0</td>\n",
       "      <td>0</td>\n",
       "      <td>0</td>\n",
       "    </tr>\n",
       "    <tr>\n",
       "      <th>fffe7116f9f68e8ad287fd7b6e33aad4871d7080e77d2d5e52636ba1c27cf032</th>\n",
       "      <td>0</td>\n",
       "      <td>0</td>\n",
       "      <td>0</td>\n",
       "      <td>0</td>\n",
       "      <td>0</td>\n",
       "      <td>0</td>\n",
       "      <td>0</td>\n",
       "      <td>0</td>\n",
       "      <td>0</td>\n",
       "      <td>0</td>\n",
       "      <td>...</td>\n",
       "      <td>0</td>\n",
       "      <td>0</td>\n",
       "      <td>0</td>\n",
       "      <td>0</td>\n",
       "      <td>0</td>\n",
       "      <td>0</td>\n",
       "      <td>0</td>\n",
       "      <td>0</td>\n",
       "      <td>0</td>\n",
       "      <td>0</td>\n",
       "    </tr>\n",
       "  </tbody>\n",
       "</table>\n",
       "<p>36816 rows × 1317 columns</p>\n",
       "</div>"
      ],
      "text/plain": [
       "article_id                                          0108775015  0108775044  \\\n",
       "customer_id                                                                  \n",
       "0001d44dbe7f6c4b35200abdb052c77a87596fe1bdcc37e...           0           0   \n",
       "00023e3dd8618bc63ccad995a5ac62e21177338d642d66b...           0           0   \n",
       "000ed4cabda96069b547ae531c66de5f1bf6a7e5b83aa8e...           0           0   \n",
       "000fb6e772c5d0023892065e659963da90b1866035558ec...           0           3   \n",
       "0010e8eb18f131e724d6997909af0808adbba057529edb1...           0           0   \n",
       "...                                                        ...         ...   \n",
       "fff7e7674509592818bf453391af43a85eaaac9a52d8587...           0           0   \n",
       "fff7f145e356557541af211bb11aa9d78d7edf51bd3c403...           0           0   \n",
       "fffae8eb3a282d8c43c77dd2ca0621703b71e90904dfde2...           0           0   \n",
       "fffb68e203e88449a1dc7173e938b1b3e91b0c93ff4e1dd...           0           0   \n",
       "fffe7116f9f68e8ad287fd7b6e33aad4871d7080e77d2d5...           0           0   \n",
       "\n",
       "article_id                                          0111565001  0111586001  \\\n",
       "customer_id                                                                  \n",
       "0001d44dbe7f6c4b35200abdb052c77a87596fe1bdcc37e...           0           0   \n",
       "00023e3dd8618bc63ccad995a5ac62e21177338d642d66b...           0           0   \n",
       "000ed4cabda96069b547ae531c66de5f1bf6a7e5b83aa8e...           0           0   \n",
       "000fb6e772c5d0023892065e659963da90b1866035558ec...           1           1   \n",
       "0010e8eb18f131e724d6997909af0808adbba057529edb1...           0           0   \n",
       "...                                                        ...         ...   \n",
       "fff7e7674509592818bf453391af43a85eaaac9a52d8587...           0           0   \n",
       "fff7f145e356557541af211bb11aa9d78d7edf51bd3c403...           0           0   \n",
       "fffae8eb3a282d8c43c77dd2ca0621703b71e90904dfde2...           0           0   \n",
       "fffb68e203e88449a1dc7173e938b1b3e91b0c93ff4e1dd...           0           0   \n",
       "fffe7116f9f68e8ad287fd7b6e33aad4871d7080e77d2d5...           0           0   \n",
       "\n",
       "article_id                                          0111593001  0120129001  \\\n",
       "customer_id                                                                  \n",
       "0001d44dbe7f6c4b35200abdb052c77a87596fe1bdcc37e...           0           0   \n",
       "00023e3dd8618bc63ccad995a5ac62e21177338d642d66b...           0           0   \n",
       "000ed4cabda96069b547ae531c66de5f1bf6a7e5b83aa8e...           0           0   \n",
       "000fb6e772c5d0023892065e659963da90b1866035558ec...           1           0   \n",
       "0010e8eb18f131e724d6997909af0808adbba057529edb1...           0           0   \n",
       "...                                                        ...         ...   \n",
       "fff7e7674509592818bf453391af43a85eaaac9a52d8587...           7           0   \n",
       "fff7f145e356557541af211bb11aa9d78d7edf51bd3c403...           0           0   \n",
       "fffae8eb3a282d8c43c77dd2ca0621703b71e90904dfde2...           0           0   \n",
       "fffb68e203e88449a1dc7173e938b1b3e91b0c93ff4e1dd...           0           0   \n",
       "fffe7116f9f68e8ad287fd7b6e33aad4871d7080e77d2d5...           0           0   \n",
       "\n",
       "article_id                                          0123173001  0148033001  \\\n",
       "customer_id                                                                  \n",
       "0001d44dbe7f6c4b35200abdb052c77a87596fe1bdcc37e...           0           0   \n",
       "00023e3dd8618bc63ccad995a5ac62e21177338d642d66b...           0           0   \n",
       "000ed4cabda96069b547ae531c66de5f1bf6a7e5b83aa8e...           0           0   \n",
       "000fb6e772c5d0023892065e659963da90b1866035558ec...           0           0   \n",
       "0010e8eb18f131e724d6997909af0808adbba057529edb1...           0           0   \n",
       "...                                                        ...         ...   \n",
       "fff7e7674509592818bf453391af43a85eaaac9a52d8587...           0           0   \n",
       "fff7f145e356557541af211bb11aa9d78d7edf51bd3c403...           0           0   \n",
       "fffae8eb3a282d8c43c77dd2ca0621703b71e90904dfde2...           0           0   \n",
       "fffb68e203e88449a1dc7173e938b1b3e91b0c93ff4e1dd...           0           0   \n",
       "fffe7116f9f68e8ad287fd7b6e33aad4871d7080e77d2d5...           0           0   \n",
       "\n",
       "article_id                                          0153115019  0153115020  \\\n",
       "customer_id                                                                  \n",
       "0001d44dbe7f6c4b35200abdb052c77a87596fe1bdcc37e...           0           0   \n",
       "00023e3dd8618bc63ccad995a5ac62e21177338d642d66b...           0           0   \n",
       "000ed4cabda96069b547ae531c66de5f1bf6a7e5b83aa8e...           0           0   \n",
       "000fb6e772c5d0023892065e659963da90b1866035558ec...           0           0   \n",
       "0010e8eb18f131e724d6997909af0808adbba057529edb1...           0           0   \n",
       "...                                                        ...         ...   \n",
       "fff7e7674509592818bf453391af43a85eaaac9a52d8587...           0           0   \n",
       "fff7f145e356557541af211bb11aa9d78d7edf51bd3c403...           0           0   \n",
       "fffae8eb3a282d8c43c77dd2ca0621703b71e90904dfde2...           0           0   \n",
       "fffb68e203e88449a1dc7173e938b1b3e91b0c93ff4e1dd...           0           0   \n",
       "fffe7116f9f68e8ad287fd7b6e33aad4871d7080e77d2d5...           0           0   \n",
       "\n",
       "article_id                                          ...  0879248001  \\\n",
       "customer_id                                         ...               \n",
       "0001d44dbe7f6c4b35200abdb052c77a87596fe1bdcc37e...  ...           0   \n",
       "00023e3dd8618bc63ccad995a5ac62e21177338d642d66b...  ...           0   \n",
       "000ed4cabda96069b547ae531c66de5f1bf6a7e5b83aa8e...  ...           0   \n",
       "000fb6e772c5d0023892065e659963da90b1866035558ec...  ...           0   \n",
       "0010e8eb18f131e724d6997909af0808adbba057529edb1...  ...           0   \n",
       "...                                                 ...         ...   \n",
       "fff7e7674509592818bf453391af43a85eaaac9a52d8587...  ...           0   \n",
       "fff7f145e356557541af211bb11aa9d78d7edf51bd3c403...  ...           0   \n",
       "fffae8eb3a282d8c43c77dd2ca0621703b71e90904dfde2...  ...           0   \n",
       "fffb68e203e88449a1dc7173e938b1b3e91b0c93ff4e1dd...  ...           0   \n",
       "fffe7116f9f68e8ad287fd7b6e33aad4871d7080e77d2d5...  ...           0   \n",
       "\n",
       "article_id                                          0879781003  0880839001  \\\n",
       "customer_id                                                                  \n",
       "0001d44dbe7f6c4b35200abdb052c77a87596fe1bdcc37e...           0           0   \n",
       "00023e3dd8618bc63ccad995a5ac62e21177338d642d66b...           0           0   \n",
       "000ed4cabda96069b547ae531c66de5f1bf6a7e5b83aa8e...           0           0   \n",
       "000fb6e772c5d0023892065e659963da90b1866035558ec...           0           0   \n",
       "0010e8eb18f131e724d6997909af0808adbba057529edb1...           0           0   \n",
       "...                                                        ...         ...   \n",
       "fff7e7674509592818bf453391af43a85eaaac9a52d8587...           0           0   \n",
       "fff7f145e356557541af211bb11aa9d78d7edf51bd3c403...           0           0   \n",
       "fffae8eb3a282d8c43c77dd2ca0621703b71e90904dfde2...           0           0   \n",
       "fffb68e203e88449a1dc7173e938b1b3e91b0c93ff4e1dd...           0           0   \n",
       "fffe7116f9f68e8ad287fd7b6e33aad4871d7080e77d2d5...           0           0   \n",
       "\n",
       "article_id                                          0882888002  0883024001  \\\n",
       "customer_id                                                                  \n",
       "0001d44dbe7f6c4b35200abdb052c77a87596fe1bdcc37e...           0           0   \n",
       "00023e3dd8618bc63ccad995a5ac62e21177338d642d66b...           0           0   \n",
       "000ed4cabda96069b547ae531c66de5f1bf6a7e5b83aa8e...           0           0   \n",
       "000fb6e772c5d0023892065e659963da90b1866035558ec...           0           0   \n",
       "0010e8eb18f131e724d6997909af0808adbba057529edb1...           0           0   \n",
       "...                                                        ...         ...   \n",
       "fff7e7674509592818bf453391af43a85eaaac9a52d8587...           0           0   \n",
       "fff7f145e356557541af211bb11aa9d78d7edf51bd3c403...           0           0   \n",
       "fffae8eb3a282d8c43c77dd2ca0621703b71e90904dfde2...           0           0   \n",
       "fffb68e203e88449a1dc7173e938b1b3e91b0c93ff4e1dd...           0           0   \n",
       "fffe7116f9f68e8ad287fd7b6e33aad4871d7080e77d2d5...           0           0   \n",
       "\n",
       "article_id                                          0883033001  0883033002  \\\n",
       "customer_id                                                                  \n",
       "0001d44dbe7f6c4b35200abdb052c77a87596fe1bdcc37e...           0           0   \n",
       "00023e3dd8618bc63ccad995a5ac62e21177338d642d66b...           0           0   \n",
       "000ed4cabda96069b547ae531c66de5f1bf6a7e5b83aa8e...           0           0   \n",
       "000fb6e772c5d0023892065e659963da90b1866035558ec...           0           0   \n",
       "0010e8eb18f131e724d6997909af0808adbba057529edb1...           1           0   \n",
       "...                                                        ...         ...   \n",
       "fff7e7674509592818bf453391af43a85eaaac9a52d8587...           0           0   \n",
       "fff7f145e356557541af211bb11aa9d78d7edf51bd3c403...           0           0   \n",
       "fffae8eb3a282d8c43c77dd2ca0621703b71e90904dfde2...           0           0   \n",
       "fffb68e203e88449a1dc7173e938b1b3e91b0c93ff4e1dd...           0           0   \n",
       "fffe7116f9f68e8ad287fd7b6e33aad4871d7080e77d2d5...           0           0   \n",
       "\n",
       "article_id                                          0915526001  0916468003  \\\n",
       "customer_id                                                                  \n",
       "0001d44dbe7f6c4b35200abdb052c77a87596fe1bdcc37e...           0           0   \n",
       "00023e3dd8618bc63ccad995a5ac62e21177338d642d66b...           0           0   \n",
       "000ed4cabda96069b547ae531c66de5f1bf6a7e5b83aa8e...           0           0   \n",
       "000fb6e772c5d0023892065e659963da90b1866035558ec...           0           0   \n",
       "0010e8eb18f131e724d6997909af0808adbba057529edb1...           0           0   \n",
       "...                                                        ...         ...   \n",
       "fff7e7674509592818bf453391af43a85eaaac9a52d8587...           0           0   \n",
       "fff7f145e356557541af211bb11aa9d78d7edf51bd3c403...           0           0   \n",
       "fffae8eb3a282d8c43c77dd2ca0621703b71e90904dfde2...           0           0   \n",
       "fffb68e203e88449a1dc7173e938b1b3e91b0c93ff4e1dd...           0           0   \n",
       "fffe7116f9f68e8ad287fd7b6e33aad4871d7080e77d2d5...           0           0   \n",
       "\n",
       "article_id                                          0918292001  \n",
       "customer_id                                                     \n",
       "0001d44dbe7f6c4b35200abdb052c77a87596fe1bdcc37e...           0  \n",
       "00023e3dd8618bc63ccad995a5ac62e21177338d642d66b...           0  \n",
       "000ed4cabda96069b547ae531c66de5f1bf6a7e5b83aa8e...           0  \n",
       "000fb6e772c5d0023892065e659963da90b1866035558ec...           0  \n",
       "0010e8eb18f131e724d6997909af0808adbba057529edb1...           0  \n",
       "...                                                        ...  \n",
       "fff7e7674509592818bf453391af43a85eaaac9a52d8587...           0  \n",
       "fff7f145e356557541af211bb11aa9d78d7edf51bd3c403...           0  \n",
       "fffae8eb3a282d8c43c77dd2ca0621703b71e90904dfde2...           0  \n",
       "fffb68e203e88449a1dc7173e938b1b3e91b0c93ff4e1dd...           0  \n",
       "fffe7116f9f68e8ad287fd7b6e33aad4871d7080e77d2d5...           0  \n",
       "\n",
       "[36816 rows x 1317 columns]"
      ]
     },
     "execution_count": 32,
     "metadata": {},
     "output_type": "execute_result"
    }
   ],
   "source": [
    "user_item_matrix"
   ]
  },
  {
   "cell_type": "code",
   "execution_count": 33,
   "id": "7b20ecc5-99c7-43d1-93f6-63fb1cffeab2",
   "metadata": {},
   "outputs": [],
   "source": [
    "transactions_f2[\n",
    "    [\"t_dat\", \"customer_id\", \"article_id\", \"price\", \"sales_channel_id\"]\n",
    "].to_csv(\"./recursos/datos/transactions_small.csv\", index=False)"
   ]
  },
  {
   "cell_type": "markdown",
   "id": "51ee6817-8a4c-41f0-949e-f9cb75d51c8a",
   "metadata": {
    "tags": []
   },
   "source": [
    "<h2 style=\"color: #f47b4c; margin-top: 100px;\">Limitaciones IV: Privacidad.</h2>\n",
    "<p style=\"font-size: 18px; color: #002060;\">\n",
    "    Un usuario puede ser reticente a dar sus datos si no ve un beneficio directo. Por lo que las recomendaciones personales van a ser más complejas atacarlas y se tendrá que optar más por otro tipo de vías para recomendar a estos usuarios. Como por ejemplo, recomendar por popularidad.\n",
    "</p>\n",
    "\n",
    "<h2 style=\"color: #f47b4c; margin-top: 100px;\">Limitaciones V: <em>Grey sheep problem</em>.</h2>\n",
    "<p style=\"font-size: 18px; color: #002060;\">\n",
    "    Este tipo de problemas se refiere a personas cuyas opiniones son dispares a las del resto y no se llegan a beneficiar de un filtrado colaborativo. Este tipo de personas hay que detectarlas y recomendarles por separado.\n",
    "</p>\n",
    "<h2 style=\"color: #f47b4c; margin-top: 100px;\">Limitaciones VI: Productos sinónimos.</h2>\n",
    "<p style=\"font-size: 18px; color: #002060;\">\n",
    "    Este tipo de problemas está relacionado con los productos. Si dos productos se parecen mucho, se va a tender a recomendar ese, pero esto no siempre puede ser beneficioso. Por ejemplo si se ha comprado un pantalón negro, aunque pueda parecer lógico que el mismo pantalón en azul gustará, puede que tenga más sentido recomendar una camiseta al gusto de la elección del pantalón.\n",
    "</p>\n",
    "<h2 style=\"color: #f47b4c; margin-top: 100px;\">¿Cómo defino el objetivo de un motor de recomendación?</h2>\n",
    "<p style=\"font-size: 18px; color: #002060;\">\n",
    "    El objetivo de un motor de recomendación se define en función de como se quiera atacar el problema de recomendar. Es decir, a medida que se tiene más información de una persona, más complejo puede ser el algoritmo.\n",
    "</p>\n",
    "<p style=\"font-size: 18px; color: #002060;\">\n",
    "    Es por eso que para fijar un objetivo, hay que tener en cuenta todos los problemas anteriores para acabar recomendando de la mejor manera posible a todas las personas y sobre todos los productos. Por ejemplo, enviar recomendaciones provenientes de diferentes motores de recomendación (algoritmos) en función de cómo esté el usuario consumiendo el producto.\n",
    "</p>\n",
    "<p style=\"font-size: 18px; color: #002060;\">\n",
    "    El objectivo de este taller es enseñar diferentes algoritmos y como funcionan cada uno con el perímetro de datos elegido.\n",
    "</p>"
   ]
  }
 ],
 "metadata": {
  "kernelspec": {
   "display_name": "Python 3 (ipykernel)",
   "language": "python",
   "name": "python3"
  },
  "language_info": {
   "codemirror_mode": {
    "name": "ipython",
    "version": 3
   },
   "file_extension": ".py",
   "mimetype": "text/x-python",
   "name": "python",
   "nbconvert_exporter": "python",
   "pygments_lexer": "ipython3",
   "version": "3.10.9"
  }
 },
 "nbformat": 4,
 "nbformat_minor": 5
}
