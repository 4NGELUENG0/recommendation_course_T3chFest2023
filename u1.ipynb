{
 "cells": [
  {
   "cell_type": "markdown",
   "id": "8de9d488-3ff4-40c6-9960-871111d49a92",
   "metadata": {
    "tags": []
   },
   "source": [
    "<html style=\"background-color: white\">\n",
    "    <head style=\"background-color: white\">\n",
    "        <div style=\"position: relative; width: 1084px; margin: 50px auto; padding: 15px auto;\">\n",
    "            <figure style=\"max-width: 500px; float:left; padding: 10px; margin: 10px;\">\n",
    "                <a href=\"https://decide4ai.com/\" target=\"_blank\"><img style=\"padding: px; margin: 0;\" src=\"./recursos/imagenes/FULLCOLOR.png\" alt=\"logo decide\"></a>\n",
    "            </figure>\n",
    "            <figure style=\"max-width: 500px; float:left; padding: 10px; margin: 32px 10px 10px 10px;\">\n",
    "                <a href=\"https://t3chfest.es/2023/\" target=\"_blank\"><img style=\"padding: 0; margin: 0;\" src=\"./recursos/imagenes/t3f_logo.png\" alt=\"logo t3ch festival\"></a>\n",
    "            </figure>\n",
    "        </div>\n",
    "        <div style=\"position: relative; border-top:3px solid #002060; border-bottom:3px solid #002060; margin-top: 300px; height: 96px; margin-right: auto; margin-left: auto;\">\n",
    "            <img style=\"float: left; height: 64px; width: 76px;  margin:1% 1% 1% 7%;\" src=\"./recursos/imagenes/ICON-FULLCOLOR-ROT.png\" alt=\"icono decide4ai rotado\">\n",
    "            <h1 style=\"color: #002060; text-align: center; margin: 2% 0; padding: 0; width: 70%; float: left;\">\n",
    "                Unidad 1: Introducción a motores de recomendación<br><a href=\"./indice.ipynb\" style=\"font-size: 10px; color: #bf27b8\">Volver al índice</a>\n",
    "            </h1>\n",
    "            <a href=\"./u1c1.ipynb\" target=\"_blank\"><img style=\"float: left; height: 64px; width: 76px; margin:1% auto 1% 1%;\" src=\"./recursos/imagenes/ICON-FULLCOLOR.png\" alt=\"icono decide4ai\"></a>\n",
    "        </div>\n",
    "        <ol style=\"text-align: left; list-style-type: none; margin-top: 75px;\">\n",
    "            <li style=\"margin: 20px 0;\"><h5><a style=\"color: #f47b4c\" href=\"./u1c1.ipynb\" target=\"_blank\">¿Qué es un motor de recomendación?</a></h5></li>\n",
    "            <li style=\"margin: 20px 0;\"><h5><a style=\"color: #f47b4c\" href=\"./u1c2.ipynb\" target=\"_blank\">Entendiendo los datos.</a></h5></li>\n",
    "            <li style=\"margin: 20px 0;\"><h5><a style=\"color: #f47b4c\" href=\"./u1c3.ipynb\" target=\"_blank\">¿Qué tipos de motores de recomendación existen?</a></h5></li>\n",
    "            <li style=\"margin: 20px 0;\"><h5><a style=\"color: #f47b4c\" href=\"./u1c4.ipynb\" target=\"_blank\">¿Cómo defino el objetivo de un motor de recomendación y con qué problemas me puedo encontrar?</a></h5></li>\n",
    "            <li style=\"margin: 20px 0;\"><h5><a style=\"color: #f47b4c\" href=\"./u1c5.ipynb\" target=\"_blank\">¿Qué métricas uso para un motor de recomendación?</a></h5></li>\n",
    "            <li style=\"margin: 20px 0;\"><h5><a style=\"color: #f47b4c\" href=\"./u1c6.ipynb\" target=\"_blank\">¿Cómo pongo en producción un motor de recomendación?</a></h5></li>\n",
    "        </ol>\n",
    "    </head>\n",
    "    <body>\n",
    "        <h1 style=\"color: #002060; margin-top: 100px;\">Introducción a motores de recomendación</h1>\n",
    "        <p style=\"font-size: 18px; color: #002060;\">\n",
    "            ¿Quién no tiene amigos o amigas a los que les gusta todo? O, ¿quién no tiene amigos a los que no les gusta nada? Y de la misma manera, de estas personas, ¿alguna os recomienda pensando en ustedes? ¿O lo hacen pensando en que a ellos y ellas mismas les ha encantado eso que han visto o disfrutado?\n",
    "        </p>\n",
    "        <p style=\"font-size: 18px; color: #002060;\">\n",
    "            Pero, de vez en cuando, aparece una persona que te recomienda en base a lo que realmente te gusta. Que te conoce bien y te sabe decir:<br>\n",
    "            &emsp;&emsp;<em>— ¡Oye! ¿Te acuerdas de que me contaste que el restaurante de <u>Casa Francisco el de Siempre</u> en <u>el Palmar</u> te encantaba? Pues en un pueblo de <u>Lleida</u>, que estuve la semana pasada, ¡hay uno que es una maravilla! <u>Muy buena atención</u>, <u>un sitio precioso</u> y, aunque la <u>carta</u> es más <u>escueta</u>, la <u>comida es sabrosa</u>. Si pasas tienes que ir, te va a gustar.</em>\n",
    "        </p>\n",
    "        <p style=\"font-size: 18px; border: 4px solid #1cb890; text-align: center; padding: 8px; color: #002060; width: 50%; margin: 0 25%;\">\n",
    "            Esto es un motor o sistema de recomendación: un algoritmo que, en base a tus gustos, te ofrece un producto que sea <strong>de tu interés</strong>.\n",
    "        </p>\n",
    "        <br>\n",
    "        <p style=\"font-size: 18px; color: #002060;\">\n",
    "            Seguro que sabrías decirme más de un sistema de recomendación popular: Amazon, Netflix, TikTok, etc. Pero, ¿cómo funcionan? ¿Por qué hay veces que acierta y veces que falla? En este taller vamos a resolver todas estas dudas. Además, vamos a conocer cómo afrontar un proyecto de estas características, qué problemas asociados hay y qué maneras hay de poner en producción un sistema con estas propiedades.\n",
    "        </p>\n",
    "    </body>\n",
    "</html>"
   ]
  },
  {
   "cell_type": "code",
   "execution_count": null,
   "id": "3cf08dd7-63f8-493f-adaf-c32b0ae1592b",
   "metadata": {},
   "outputs": [],
   "source": []
  }
 ],
 "metadata": {
  "kernelspec": {
   "display_name": "Python 3 (ipykernel)",
   "language": "python",
   "name": "python3"
  },
  "language_info": {
   "codemirror_mode": {
    "name": "ipython",
    "version": 3
   },
   "file_extension": ".py",
   "mimetype": "text/x-python",
   "name": "python",
   "nbconvert_exporter": "python",
   "pygments_lexer": "ipython3",
   "version": "3.10.9"
  },
  "vscode": {
   "interpreter": {
    "hash": "a9634b3da602d5469ebed6cb686a14de7e88f55af7e918366dbf4f55476a71a0"
   }
  }
 },
 "nbformat": 4,
 "nbformat_minor": 5
}
