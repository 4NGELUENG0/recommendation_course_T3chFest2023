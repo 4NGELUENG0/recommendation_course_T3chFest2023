{
 "cells": [
  {
   "cell_type": "markdown",
   "metadata": {},
   "source": [
    "<p style=\"font-size: 18px; color: #002060;\">\n",
    "<ul style=\"text-align: left; font-size: 18px; color: #002060;\">\n",
    "    <li style=\"margin: 20px 0;\"> Kumar, P. P., Vairachilai, S., Potluri, S., & Mohanty, S. N. (2021). <em>Recommender systems: Algorithms and applications.</em> CRC Press.\n",
    "    <li style=\"margin: 20px 0;\"> Falk, K. (2019). <em>Practical recommender systems.</em> Manning Publications.\n",
    "    <li style=\"margin: 20px 0;\">Çano, E., & Morisio, M. (2017). Hybrid recommender systems: A systematic literature review. Intelligent Data Analysis, 21(6), 1487–1524. \n",
    "    <li style=\"margin: 20px 0;\"> <a href=\"https://levelup.gitconnected.com/the-mathematics-of-recommendation-systems-e8922a50bdea\">The Mathematics of Recommendation Systems (2020)</a>\n",
    "    <li style=\"margin: 20px 0;\"> <a href=\"https://medium.com/mlearning-ai/recommendation-systems-content-based-filtering-e19e3b0a309e\">Recommendation Systems: Content-Based Filtering (2022)</a>\n",
    "    <li style=\"margin: 20px 0;\"> <a href=\"https://medium.com/mlearning-ai/recommendation-systems-collaborative-filtering-75121f19dd03\">Recommendation Systems: Collaborative Filtering (2022)</a>\n",
    "    <li style=\"margin: 20px 0;\"> <a href=\"https://towardsdatascience.com/various-implementations-of-collaborative-filtering-100385c6dfe0\">Various Implementations of Collaborative Filtering (2017)</a>\n",
    "    <li style=\"margin: 20px 0;\"> <a href=\"https://bond-kirill-alexandrovich.medium.com/precision-and-recall-in-recommender-systems-and-some-metrics-stuff-ca2ad385c5f8\">Precision and recall in recommender systems. And some metrics stuff. (2019)</a>\n",
    "    <li style=\"margin: 20px 0;\"> <a href=\"https://medium.datadriveninvestor.com/how-funk-singular-value-decomposition-algorithm-work-in-recommendation-engines-36f2fbf62cac\">How Does the Funk Singular Value Decomposition Algorithm work in Recommendation Engines? (2019)</a>\n",
    "    <li style=\"margin: 20px 0;\"> <a href=\"https://medium.com/sciforce/deep-learning-based-recommender-systems-b61a5ddd5456\">Deep Learning Based Recommender Systems (2021)</a>\n",
    "    <li style=\"margin: 20px 0;\"> <a href=\"https://developer.nvidia.com/blog/how-to-build-a-winning-recommendation-system-part-2-deep-learning-for-recommender-systems/\">How to Build a Deep Learning Powered Recommender System, Part 2 (2021)</a>\n",
    "    <li style=\"margin: 20px 0;\"> <a href=\"https://medium.datadriveninvestor.com/how-funk-singular-value-decomposition-algorithm-work-in-recommendation-engines-36f2fbf62cac\">How Does the Funk Singular Value Decomposition Algorithm work in Recommendation Engines? (2019)</a>\n",
    "</ul></p>\n",
    "</p>"
   ]
  },
  {
   "cell_type": "markdown",
   "metadata": {},
   "source": [
    "<p style=\"font-size: 18px; color: #002060;\">\n",
    "De la Unidad 5 - Sistemas de recomendación basados en Reinforcement Learning:\n",
    "<ul style=\"text-align: left; font-size: 18px; color: #002060;\">\n",
    "    <li style=\"margin: 20px 0;\"> <a href=\"https://eugeneyan.com/writing/bandits/\">Bandits for Recommender Systems (2022)</a>\n",
    "    <li style=\"margin: 20px 0;\"> <a href=\"https://towardsdatascience.com/bandits-for-recommender-system-optimization-1d702662346e\">Bandits for Recommender System Optimization (2018)</a>\n",
    "    <li style=\"margin: 20px 0;\"> <a href=\"https://www.offerzen.com/blog/how-to-build-a-product-recommender-using-multi-armed-bandit-algorithms\">How to Build a Product Recommender Using Multi-Armed Bandit Algorithms</a>\n",
    "    <li style=\"margin: 20px 0;\"> <a href=\"https://getstream.io/blog/introduction-contextual-bandits/\">An introduction for contextual bandits</a>\n",
    "    <li style=\"margin: 20px 0;\"> <a href=\"https://towardsdatascience.com/recommender-systems-using-linucb-a-contextual-multi-armed-bandit-approach-35a6f0eb6c4\">Recommender systems using LinUCB: A contextual multi-armed bandit approach (2020)</a>\n",
    "    <li style=\"margin: 20px 0;\"> Li, L., Chu, W., Langford, J., & Schapire, R. E. (2010). <em>A contextual-bandit approach to personalized news article recommendation.</em> Proceedings of the 19th international conference on World wide web.\n",
    "    <li style=\"margin: 20px 0;\"> O. Chapelle, and L. Li. (2011). <em>An Empirical Evaluation of Thompson Sampling.</em>  NIPS, 2249-2257.\n",
    "</ul></p>\n",
    "</p>"
   ]
  },
  {
   "cell_type": "markdown",
   "metadata": {},
   "source": [
    "<p style=\"font-size: 18px; color: #002060;\">\n",
    "Librerías:\n",
    "</p>\n",
    "<ul style=\"text-align: left; font-size: 18px; color: #002060;\">\n",
    "    <li style=\"margin: 20px 0;\"><a href=\"https://surpriselib.com/\">Surprise Python</a></li>\n",
    "    <li style=\"margin: 20px 0;\"><a href=\"https://github.com/Microsoft/Recommenders\">Recommenders MS</a></li>\n",
    "</ul>"
   ]
  },
  {
   "cell_type": "code",
   "execution_count": null,
   "metadata": {},
   "outputs": [],
   "source": []
  }
 ],
 "metadata": {
  "kernelspec": {
   "display_name": "Python 3 (ipykernel)",
   "language": "python",
   "name": "python3"
  },
  "language_info": {
   "codemirror_mode": {
    "name": "ipython",
    "version": 3
   },
   "file_extension": ".py",
   "mimetype": "text/x-python",
   "name": "python",
   "nbconvert_exporter": "python",
   "pygments_lexer": "ipython3",
   "version": "3.10.9"
  }
 },
 "nbformat": 4,
 "nbformat_minor": 4
}
